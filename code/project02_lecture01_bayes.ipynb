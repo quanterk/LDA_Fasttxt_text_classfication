{
 "cells": [
  {
   "cell_type": "markdown",
   "metadata": {},
   "source": [
    "```\n",
    "作业1：\n",
    "1.熟悉项目数据\n",
    "2.项目数据处理（提取、分词等）\n",
    "3.使用朴素贝叶斯根据数据建立各科目内大知识层级的多类别分类baseline\n",
    "数据集下载地址：\n",
    "链接：https://pan.baidu.com/s/1OXoP18SEnd_eg1T86Ts2kA \n",
    "提取码：8urs \n",
    "```"
   ]
  },
  {
   "cell_type": "code",
   "execution_count": 1,
   "metadata": {},
   "outputs": [],
   "source": [
    "import os\n",
    "import re\n",
    "import jieba\n",
    "import pandas as pd"
   ]
  },
  {
   "cell_type": "markdown",
   "metadata": {},
   "source": [
    "# 加载数据"
   ]
  },
  {
   "cell_type": "code",
   "execution_count": 40,
   "metadata": {},
   "outputs": [],
   "source": [
    "root = 'C:/Users/K/资深NLP/week9/9-2随堂课件/lecture_1_2/data/百度题库/高中_历史/origin/'"
   ]
  },
  {
   "cell_type": "code",
   "execution_count": 41,
   "metadata": {},
   "outputs": [
    {
     "data": {
      "text/plain": [
       "'C:/Users/K/资深NLP/week9/9-2随堂课件/lecture_1_2/data/百度题库/高中_历史/origin/古代史.csv'"
      ]
     },
     "execution_count": 41,
     "metadata": {},
     "output_type": "execute_result"
    }
   ],
   "source": [
    "os.path.join(root,'古代史.csv')"
   ]
  },
  {
   "cell_type": "code",
   "execution_count": 44,
   "metadata": {},
   "outputs": [
    {
     "data": {
      "text/html": [
       "<div>\n",
       "<style scoped>\n",
       "    .dataframe tbody tr th:only-of-type {\n",
       "        vertical-align: middle;\n",
       "    }\n",
       "\n",
       "    .dataframe tbody tr th {\n",
       "        vertical-align: top;\n",
       "    }\n",
       "\n",
       "    .dataframe thead th {\n",
       "        text-align: right;\n",
       "    }\n",
       "</style>\n",
       "<table border=\"1\" class=\"dataframe\">\n",
       "  <thead>\n",
       "    <tr style=\"text-align: right;\">\n",
       "      <th></th>\n",
       "      <th>web-scraper-order</th>\n",
       "      <th>web-scraper-start-url</th>\n",
       "      <th>item</th>\n",
       "    </tr>\n",
       "  </thead>\n",
       "  <tbody>\n",
       "    <tr>\n",
       "      <th>0</th>\n",
       "      <td>1566523436-2497</td>\n",
       "      <td>https://study.baidu.com/tiku</td>\n",
       "      <td>[题目]\\n据《左传》记载，春秋后期鲁国大夫季孙氏的家臣阳虎独掌权柄后，标榜要替鲁国国君整肃...</td>\n",
       "    </tr>\n",
       "    <tr>\n",
       "      <th>1</th>\n",
       "      <td>1566523436-2506</td>\n",
       "      <td>https://study.baidu.com/tiku</td>\n",
       "      <td>[题目]\\n秦始皇统一六国后创制了一套御玺。如任命国家官员，则封印“皇帝之玺”；若任命四夷的...</td>\n",
       "    </tr>\n",
       "    <tr>\n",
       "      <th>2</th>\n",
       "      <td>1566523436-2153</td>\n",
       "      <td>https://study.baidu.com/tiku</td>\n",
       "      <td>[题目]\\n北宋加强中央集权的主要措施有（   ）\\n①把主要将领的兵权收归中央②派文官担任...</td>\n",
       "    </tr>\n",
       "    <tr>\n",
       "      <th>3</th>\n",
       "      <td>1566523436-2328</td>\n",
       "      <td>https://study.baidu.com/tiku</td>\n",
       "      <td>[题目]\\n商朝人崇信各种鬼神，把占卜、祭祀作为与神灵沟通的手段，负责通神事务的是商王和巫师...</td>\n",
       "    </tr>\n",
       "    <tr>\n",
       "      <th>4</th>\n",
       "      <td>1566523436-1914</td>\n",
       "      <td>https://study.baidu.com/tiku</td>\n",
       "      <td>[题目]\\n公元963年，北宋政府在江淮地区设置了包括盐业管理，以及控制对茶叶销售的专卖等为...</td>\n",
       "    </tr>\n",
       "    <tr>\n",
       "      <th>5</th>\n",
       "      <td>1566523436-2410</td>\n",
       "      <td>https://study.baidu.com/tiku</td>\n",
       "      <td>[题目]\\n《左传》有云：“昔周公、大公股肱周室，夹辅成王。成王劳之，而赐之盟，曰：世世子孙...</td>\n",
       "    </tr>\n",
       "    <tr>\n",
       "      <th>6</th>\n",
       "      <td>1566523436-2243</td>\n",
       "      <td>https://study.baidu.com/tiku</td>\n",
       "      <td>[题目]\\n某一同学在研究性学习过程中搜集了如下一组图片，据此判断他的研究主题是（     ...</td>\n",
       "    </tr>\n",
       "    <tr>\n",
       "      <th>7</th>\n",
       "      <td>1566523436-2545</td>\n",
       "      <td>https://study.baidu.com/tiku</td>\n",
       "      <td>[题目]\\n古人对秦朝短期而亡的主要原因的分析，最准确的是（  ）A. “废先王之道，燔百家...</td>\n",
       "    </tr>\n",
       "    <tr>\n",
       "      <th>8</th>\n",
       "      <td>1566523436-2129</td>\n",
       "      <td>https://study.baidu.com/tiku</td>\n",
       "      <td>[题目]\\n《汉书·武帝纪》记载：“春正月，诏曰：‘梁王、城阳王亲慈同生，愿以邑分弟，其许之...</td>\n",
       "    </tr>\n",
       "    <tr>\n",
       "      <th>9</th>\n",
       "      <td>1566523436-1969</td>\n",
       "      <td>https://study.baidu.com/tiku</td>\n",
       "      <td>[题目]\\n元代行省的设置，无视历来与划界密切相关的几条最重要的山川边界——秦岭、淮河、南岭...</td>\n",
       "    </tr>\n",
       "    <tr>\n",
       "      <th>10</th>\n",
       "      <td>1566523436-2522</td>\n",
       "      <td>https://study.baidu.com/tiku</td>\n",
       "      <td>[题目]\\n西周的分封制规定，被封的诸侯国必须服从周天子的命令，诸侯的义务有（  ）\\n① ...</td>\n",
       "    </tr>\n",
       "    <tr>\n",
       "      <th>11</th>\n",
       "      <td>1566523436-1991</td>\n",
       "      <td>https://study.baidu.com/tiku</td>\n",
       "      <td>[题目]\\n公元前127年，汉皇帝规定诸侯王除由嫡长子继承王位外，其他诸子都在王国范围内分到...</td>\n",
       "    </tr>\n",
       "    <tr>\n",
       "      <th>12</th>\n",
       "      <td>1566523436-1822</td>\n",
       "      <td>https://study.baidu.com/tiku</td>\n",
       "      <td>[题目]\\n梁启超认为,在汉朝,中国发生了一场有意义的革命,打破了三代以来贵族政治的局面。这...</td>\n",
       "    </tr>\n",
       "    <tr>\n",
       "      <th>13</th>\n",
       "      <td>1566523436-2324</td>\n",
       "      <td>https://study.baidu.com/tiku</td>\n",
       "      <td>[题目]\\n《左传》记载“昔武王克商，光有天下，其兄弟之国者十有五人，姬姓之国者四十人，皆举...</td>\n",
       "    </tr>\n",
       "    <tr>\n",
       "      <th>14</th>\n",
       "      <td>1566523436-2444</td>\n",
       "      <td>https://study.baidu.com/tiku</td>\n",
       "      <td>[题目]\\n战国时期，官员禄秩的秩名来自俸禄额度。秦国和燕国，俸禄成为官阶，出现了三百石以上...</td>\n",
       "    </tr>\n",
       "    <tr>\n",
       "      <th>15</th>\n",
       "      <td>1566523436-2082</td>\n",
       "      <td>https://study.baidu.com/tiku</td>\n",
       "      <td>[题目]\\n马克思在《世界文明史》中说：“唐宋时期的国家体制可称之为中央集权的君主制……中央...</td>\n",
       "    </tr>\n",
       "    <tr>\n",
       "      <th>16</th>\n",
       "      <td>1566523436-2133</td>\n",
       "      <td>https://study.baidu.com/tiku</td>\n",
       "      <td>[题目]\\n有网友发表帖子讨论科举制时说：“自秦以来，科举兴于世，始以八股为试，学子彻夜秉读...</td>\n",
       "    </tr>\n",
       "    <tr>\n",
       "      <th>17</th>\n",
       "      <td>1566523436-2684</td>\n",
       "      <td>https://study.baidu.com/tiku</td>\n",
       "      <td>[题目]\\n下图中两位思想家\\nA. 所持道德观与价值观完全相反 B. 都符合统治阶级治国的...</td>\n",
       "    </tr>\n",
       "    <tr>\n",
       "      <th>18</th>\n",
       "      <td>1566523436-2338</td>\n",
       "      <td>https://study.baidu.com/tiku</td>\n",
       "      <td>[题目]\\n史载，周文王“孝友二虢（文王同辈），而惠慈二蔡（文王子辈），刑于大姒，比于诸弟。...</td>\n",
       "    </tr>\n",
       "    <tr>\n",
       "      <th>19</th>\n",
       "      <td>1566523436-2370</td>\n",
       "      <td>https://study.baidu.com/tiku</td>\n",
       "      <td>[题目]\\n《史记·商君传》：“筑冀阙、宫庭于咸阳，秦自雍徙都之。而集小都乡邑聚为县，置令丞...</td>\n",
       "    </tr>\n",
       "    <tr>\n",
       "      <th>20</th>\n",
       "      <td>1566523436-2037</td>\n",
       "      <td>https://study.baidu.com/tiku</td>\n",
       "      <td>[题目]\\n唐朝时刘晏长期掌管国家财政大权，为官廉洁，被称为“工于谋国而拙于谋身的一代良相”...</td>\n",
       "    </tr>\n",
       "    <tr>\n",
       "      <th>21</th>\n",
       "      <td>1566523436-2700</td>\n",
       "      <td>https://study.baidu.com/tiku</td>\n",
       "      <td>[题目]\\n“一只船桨能翻出万顷波涛，一支鞭高扬走进金戈沙场，空荡荡的舞台能穷尽十八相送，一...</td>\n",
       "    </tr>\n",
       "    <tr>\n",
       "      <th>22</th>\n",
       "      <td>1566523436-2464</td>\n",
       "      <td>https://study.baidu.com/tiku</td>\n",
       "      <td>[题目]\\n在中国古代“家国一体”的社会中，忠孝观念源远流长，其源头是（  ）A. 宗法制B...</td>\n",
       "    </tr>\n",
       "    <tr>\n",
       "      <th>23</th>\n",
       "      <td>1566523436-2146</td>\n",
       "      <td>https://study.baidu.com/tiku</td>\n",
       "      <td>[题目]\\n钱穆在《国史大纲》中讲到中国古代的一种政治制度时写道：“……遂破以军功封侯拜相之...</td>\n",
       "    </tr>\n",
       "    <tr>\n",
       "      <th>24</th>\n",
       "      <td>1566523436-2242</td>\n",
       "      <td>https://study.baidu.com/tiku</td>\n",
       "      <td>[题目]\\n明代内阁和清代军机处的共同之处是（   ）A. 统领六部，处理各种政务B. 参与...</td>\n",
       "    </tr>\n",
       "    <tr>\n",
       "      <th>25</th>\n",
       "      <td>1566523436-2500</td>\n",
       "      <td>https://study.baidu.com/tiku</td>\n",
       "      <td>[题目]\\n某学者指出，限定宗法制内涵的前提是肯定宗法制源于原始时代后期的父系家长制，这自然...</td>\n",
       "    </tr>\n",
       "    <tr>\n",
       "      <th>26</th>\n",
       "      <td>1566523436-2273</td>\n",
       "      <td>https://study.baidu.com/tiku</td>\n",
       "      <td>[题目]\\n在中国历史上，孔子曾有“边缘化”“神化”“僵化”“维新化”“丑化”等多种形象，其...</td>\n",
       "    </tr>\n",
       "    <tr>\n",
       "      <th>27</th>\n",
       "      <td>1566523436-1798</td>\n",
       "      <td>https://study.baidu.com/tiku</td>\n",
       "      <td>[题目]\\n孔子曰“非礼勿视，非礼勿听，非礼勿言，”“重礼敬德”的中华礼仪传统在历史长河中沉...</td>\n",
       "    </tr>\n",
       "    <tr>\n",
       "      <th>28</th>\n",
       "      <td>1566523436-2067</td>\n",
       "      <td>https://study.baidu.com/tiku</td>\n",
       "      <td>[题目]\\n日本学者内藤湖南在《中国近代史》中说：“在贵族政治时代，贵族们有掌握权力的习惯，...</td>\n",
       "    </tr>\n",
       "    <tr>\n",
       "      <th>29</th>\n",
       "      <td>1566523436-2216</td>\n",
       "      <td>https://study.baidu.com/tiku</td>\n",
       "      <td>[题目]\\n有史书记载某朝代政治制度时说：“计财之任虽三司之职，日生烦务、常程计度、薄书期会...</td>\n",
       "    </tr>\n",
       "    <tr>\n",
       "      <th>...</th>\n",
       "      <td>...</td>\n",
       "      <td>...</td>\n",
       "      <td>...</td>\n",
       "    </tr>\n",
       "    <tr>\n",
       "      <th>970</th>\n",
       "      <td>1566523436-1992</td>\n",
       "      <td>https://study.baidu.com/tiku</td>\n",
       "      <td>[题目]\\n下图所示为《唐书》所载830名进士的出身分布比例，由此可见，唐代科举制（   ）...</td>\n",
       "    </tr>\n",
       "    <tr>\n",
       "      <th>971</th>\n",
       "      <td>1566523436-2227</td>\n",
       "      <td>https://study.baidu.com/tiku</td>\n",
       "      <td>[题目]\\n《明世宗实录》载：“先是都察院差御史巡盐，（皇帝）批答稍误，以未下阁臣票拟也。刑...</td>\n",
       "    </tr>\n",
       "    <tr>\n",
       "      <th>972</th>\n",
       "      <td>1566523436-1943</td>\n",
       "      <td>https://study.baidu.com/tiku</td>\n",
       "      <td>[题目]\\n三省六部制在发展过程中，组织形式和权力各有演变，至隋，才整齐划一为三省六部，此制...</td>\n",
       "    </tr>\n",
       "    <tr>\n",
       "      <th>973</th>\n",
       "      <td>1566523436-2061</td>\n",
       "      <td>https://study.baidu.com/tiku</td>\n",
       "      <td>[题目]\\n西汉时，文帝出行，有人惊了他的马，这人被送交廷尉治罪，廷尉张释之只让他缴纳罚金，...</td>\n",
       "    </tr>\n",
       "    <tr>\n",
       "      <th>974</th>\n",
       "      <td>1566523436-1818</td>\n",
       "      <td>https://study.baidu.com/tiku</td>\n",
       "      <td>[题目]\\n提高皇帝身边近臣的权力来削减原来国家机关的实权是中国古代统治者强化君主专制的一种...</td>\n",
       "    </tr>\n",
       "    <tr>\n",
       "      <th>975</th>\n",
       "      <td>1566523436-2629</td>\n",
       "      <td>https://study.baidu.com/tiku</td>\n",
       "      <td>[题目]\\n古希腊思想家亚里士多德指出：“古往今来人们开始探索哲理，都应起于对自然万物的惊异...</td>\n",
       "    </tr>\n",
       "    <tr>\n",
       "      <th>976</th>\n",
       "      <td>1566523436-1845</td>\n",
       "      <td>https://study.baidu.com/tiku</td>\n",
       "      <td>[题目]\\n有学者评价某一历史事件时认为，罢除中书省，六部尚书归皇帝直接领导。“这样，皇帝既...</td>\n",
       "    </tr>\n",
       "    <tr>\n",
       "      <th>977</th>\n",
       "      <td>1566523436-1949</td>\n",
       "      <td>https://study.baidu.com/tiku</td>\n",
       "      <td>[题目]\\n唐朝前期设立政事堂作为宰相议事处所，凡遇军国大事，皆由政事堂会议商议决定，经皇帝...</td>\n",
       "    </tr>\n",
       "    <tr>\n",
       "      <th>978</th>\n",
       "      <td>1566523436-2391</td>\n",
       "      <td>https://study.baidu.com/tiku</td>\n",
       "      <td>[题目]\\n在西周的封国齐国的宗法制体系中，处于大宗地位的是(  )A. 周王B. 齐国国君...</td>\n",
       "    </tr>\n",
       "    <tr>\n",
       "      <th>979</th>\n",
       "      <td>1566523436-2495</td>\n",
       "      <td>https://study.baidu.com/tiku</td>\n",
       "      <td>[题目]\\n秦朝一位大臣向皇帝进言：“臣闻殷周之王千余岁，封子弟功臣：自为枝辅。今陛下有海内...</td>\n",
       "    </tr>\n",
       "    <tr>\n",
       "      <th>980</th>\n",
       "      <td>1566523436-1997</td>\n",
       "      <td>https://study.baidu.com/tiku</td>\n",
       "      <td>[题目]\\n据《中国古代职官》统计，两宋时期51%以上的进士任官前出身为平民，明清时期43%...</td>\n",
       "    </tr>\n",
       "    <tr>\n",
       "      <th>981</th>\n",
       "      <td>1566523436-2665</td>\n",
       "      <td>https://study.baidu.com/tiku</td>\n",
       "      <td>[题目]\\n元朝马致远的杂剧《破幽梦孤雁汉宫秋》取材昭君出塞故事，其笔下的汉室奸佞当权、外族...</td>\n",
       "    </tr>\n",
       "    <tr>\n",
       "      <th>982</th>\n",
       "      <td>1566523436-2397</td>\n",
       "      <td>https://study.baidu.com/tiku</td>\n",
       "      <td>[题目]\\n史学家唐德刚在《晚清七十年》中写道：“从秦国开始的我国历史上的第一次社会政治大转...</td>\n",
       "    </tr>\n",
       "    <tr>\n",
       "      <th>983</th>\n",
       "      <td>1566523436-2138</td>\n",
       "      <td>https://study.baidu.com/tiku</td>\n",
       "      <td>[题目]\\n下面所列内容为中国某朝代具有的一些特征。据此推断该朝代是（  ）\\n①国家官僚队...</td>\n",
       "    </tr>\n",
       "    <tr>\n",
       "      <th>984</th>\n",
       "      <td>1566523436-2270</td>\n",
       "      <td>https://study.baidu.com/tiku</td>\n",
       "      <td>[题目]\\n明朝万历年间，在皇位继承人问题上，因皇后一直无子，朝廷大臣按照明朝册立长子为太子...</td>\n",
       "    </tr>\n",
       "    <tr>\n",
       "      <th>985</th>\n",
       "      <td>1566523436-1729</td>\n",
       "      <td>https://study.baidu.com/tiku</td>\n",
       "      <td>[题目]\\n在谈到中国为什么没有发展出资本主义工业时，学者伊懋可（Mark Elvin）指出...</td>\n",
       "    </tr>\n",
       "    <tr>\n",
       "      <th>986</th>\n",
       "      <td>1566523436-1972</td>\n",
       "      <td>https://study.baidu.com/tiku</td>\n",
       "      <td>[题目]\\n元代《中庵集》卷十五中记载:“天子理万物,不能独为,责之中书。中书,所以行天子之...</td>\n",
       "    </tr>\n",
       "    <tr>\n",
       "      <th>987</th>\n",
       "      <td>1566523436-1993</td>\n",
       "      <td>https://study.baidu.com/tiku</td>\n",
       "      <td>[题目]\\n唐代参加科举考试的人，要经过“考核资叙郡县乡里名籍，父祖官名，内外族姻”，“刑家...</td>\n",
       "    </tr>\n",
       "    <tr>\n",
       "      <th>988</th>\n",
       "      <td>1566523436-2462</td>\n",
       "      <td>https://study.baidu.com/tiku</td>\n",
       "      <td>[题目]\\n钱穆在《中国历史研究法》一书中认为“自秦汉以来的郡县政治，到今天民国时代还存在，...</td>\n",
       "    </tr>\n",
       "    <tr>\n",
       "      <th>989</th>\n",
       "      <td>1566523436-2024</td>\n",
       "      <td>https://study.baidu.com/tiku</td>\n",
       "      <td>[题目]\\n唐宣宗认为大将李燧德才兼备，任命他为岭南节度使。在皇帝任命诏书已经发出后，门下省...</td>\n",
       "    </tr>\n",
       "    <tr>\n",
       "      <th>990</th>\n",
       "      <td>1566523436-2451</td>\n",
       "      <td>https://study.baidu.com/tiku</td>\n",
       "      <td>[题目]\\n制度的发展与统治者的设计初衷相违背的是（   ）A. 禅让制B. 分封制C. 宗...</td>\n",
       "    </tr>\n",
       "    <tr>\n",
       "      <th>991</th>\n",
       "      <td>1566523436-2521</td>\n",
       "      <td>https://study.baidu.com/tiku</td>\n",
       "      <td>[题目]\\n周朝通过血缘的亲疏，确立起一整套土地、财产和政治地位的分配与继承的制度是（  ）...</td>\n",
       "    </tr>\n",
       "    <tr>\n",
       "      <th>992</th>\n",
       "      <td>1566523436-2164</td>\n",
       "      <td>https://study.baidu.com/tiku</td>\n",
       "      <td>[题目]\\n史学家钱穆指出：“此制用意，在于用一个客观的考试标准，来不断地挑选社会上优秀分子...</td>\n",
       "    </tr>\n",
       "    <tr>\n",
       "      <th>993</th>\n",
       "      <td>1566523436-1859</td>\n",
       "      <td>https://study.baidu.com/tiku</td>\n",
       "      <td>[题目]\\n古代宰相的职权可概括为“入（宫）则参对（君主）而议政事”、“出（宫）则监察（百官...</td>\n",
       "    </tr>\n",
       "    <tr>\n",
       "      <th>994</th>\n",
       "      <td>1566523436-2614</td>\n",
       "      <td>https://study.baidu.com/tiku</td>\n",
       "      <td>[题目]\\n秦始皇说：“天下共苦战斗不休,以有侯王。赖宗庙，天下初定，又复立国，是树兵也，而...</td>\n",
       "    </tr>\n",
       "    <tr>\n",
       "      <th>995</th>\n",
       "      <td>1566523436-2107</td>\n",
       "      <td>https://study.baidu.com/tiku</td>\n",
       "      <td>[题目]\\n元朝实行行省制度，产生的影响不包括（  ）A. 有效地管辖辽阔的疆域     B...</td>\n",
       "    </tr>\n",
       "    <tr>\n",
       "      <th>996</th>\n",
       "      <td>1566523436-1939</td>\n",
       "      <td>https://study.baidu.com/tiku</td>\n",
       "      <td>[题目]\\n《通典》记载：汉武帝时“以（御史）中丞督司隶（校尉），司隶（校尉）督司直，司直督...</td>\n",
       "    </tr>\n",
       "    <tr>\n",
       "      <th>997</th>\n",
       "      <td>1566523436-2331</td>\n",
       "      <td>https://study.baidu.com/tiku</td>\n",
       "      <td>[题目]\\n《史记》叙述西周历史时写道：“封周公旦于少昊之虚曲阜。”下列有关周公受封的叙述，...</td>\n",
       "    </tr>\n",
       "    <tr>\n",
       "      <th>998</th>\n",
       "      <td>1566523436-2586</td>\n",
       "      <td>https://study.baidu.com/tiku</td>\n",
       "      <td>[题目]\\n有人说：“分封制是一把双刃剑,它同时给予中央集权和地方势力以合法性。至于哪处势力...</td>\n",
       "    </tr>\n",
       "    <tr>\n",
       "      <th>999</th>\n",
       "      <td>1566523436-1731</td>\n",
       "      <td>https://study.baidu.com/tiku</td>\n",
       "      <td>[题目]\\n“自秦、汉以来，仕者不世，然其贤人君子犹能识其先人，或至百世而不绝，无庙无宗而祖...</td>\n",
       "    </tr>\n",
       "  </tbody>\n",
       "</table>\n",
       "<p>1000 rows × 3 columns</p>\n",
       "</div>"
      ],
      "text/plain": [
       "    web-scraper-order         web-scraper-start-url  \\\n",
       "0     1566523436-2497  https://study.baidu.com/tiku   \n",
       "1     1566523436-2506  https://study.baidu.com/tiku   \n",
       "2     1566523436-2153  https://study.baidu.com/tiku   \n",
       "3     1566523436-2328  https://study.baidu.com/tiku   \n",
       "4     1566523436-1914  https://study.baidu.com/tiku   \n",
       "5     1566523436-2410  https://study.baidu.com/tiku   \n",
       "6     1566523436-2243  https://study.baidu.com/tiku   \n",
       "7     1566523436-2545  https://study.baidu.com/tiku   \n",
       "8     1566523436-2129  https://study.baidu.com/tiku   \n",
       "9     1566523436-1969  https://study.baidu.com/tiku   \n",
       "10    1566523436-2522  https://study.baidu.com/tiku   \n",
       "11    1566523436-1991  https://study.baidu.com/tiku   \n",
       "12    1566523436-1822  https://study.baidu.com/tiku   \n",
       "13    1566523436-2324  https://study.baidu.com/tiku   \n",
       "14    1566523436-2444  https://study.baidu.com/tiku   \n",
       "15    1566523436-2082  https://study.baidu.com/tiku   \n",
       "16    1566523436-2133  https://study.baidu.com/tiku   \n",
       "17    1566523436-2684  https://study.baidu.com/tiku   \n",
       "18    1566523436-2338  https://study.baidu.com/tiku   \n",
       "19    1566523436-2370  https://study.baidu.com/tiku   \n",
       "20    1566523436-2037  https://study.baidu.com/tiku   \n",
       "21    1566523436-2700  https://study.baidu.com/tiku   \n",
       "22    1566523436-2464  https://study.baidu.com/tiku   \n",
       "23    1566523436-2146  https://study.baidu.com/tiku   \n",
       "24    1566523436-2242  https://study.baidu.com/tiku   \n",
       "25    1566523436-2500  https://study.baidu.com/tiku   \n",
       "26    1566523436-2273  https://study.baidu.com/tiku   \n",
       "27    1566523436-1798  https://study.baidu.com/tiku   \n",
       "28    1566523436-2067  https://study.baidu.com/tiku   \n",
       "29    1566523436-2216  https://study.baidu.com/tiku   \n",
       "..                ...                           ...   \n",
       "970   1566523436-1992  https://study.baidu.com/tiku   \n",
       "971   1566523436-2227  https://study.baidu.com/tiku   \n",
       "972   1566523436-1943  https://study.baidu.com/tiku   \n",
       "973   1566523436-2061  https://study.baidu.com/tiku   \n",
       "974   1566523436-1818  https://study.baidu.com/tiku   \n",
       "975   1566523436-2629  https://study.baidu.com/tiku   \n",
       "976   1566523436-1845  https://study.baidu.com/tiku   \n",
       "977   1566523436-1949  https://study.baidu.com/tiku   \n",
       "978   1566523436-2391  https://study.baidu.com/tiku   \n",
       "979   1566523436-2495  https://study.baidu.com/tiku   \n",
       "980   1566523436-1997  https://study.baidu.com/tiku   \n",
       "981   1566523436-2665  https://study.baidu.com/tiku   \n",
       "982   1566523436-2397  https://study.baidu.com/tiku   \n",
       "983   1566523436-2138  https://study.baidu.com/tiku   \n",
       "984   1566523436-2270  https://study.baidu.com/tiku   \n",
       "985   1566523436-1729  https://study.baidu.com/tiku   \n",
       "986   1566523436-1972  https://study.baidu.com/tiku   \n",
       "987   1566523436-1993  https://study.baidu.com/tiku   \n",
       "988   1566523436-2462  https://study.baidu.com/tiku   \n",
       "989   1566523436-2024  https://study.baidu.com/tiku   \n",
       "990   1566523436-2451  https://study.baidu.com/tiku   \n",
       "991   1566523436-2521  https://study.baidu.com/tiku   \n",
       "992   1566523436-2164  https://study.baidu.com/tiku   \n",
       "993   1566523436-1859  https://study.baidu.com/tiku   \n",
       "994   1566523436-2614  https://study.baidu.com/tiku   \n",
       "995   1566523436-2107  https://study.baidu.com/tiku   \n",
       "996   1566523436-1939  https://study.baidu.com/tiku   \n",
       "997   1566523436-2331  https://study.baidu.com/tiku   \n",
       "998   1566523436-2586  https://study.baidu.com/tiku   \n",
       "999   1566523436-1731  https://study.baidu.com/tiku   \n",
       "\n",
       "                                                  item  \n",
       "0    [题目]\\n据《左传》记载，春秋后期鲁国大夫季孙氏的家臣阳虎独掌权柄后，标榜要替鲁国国君整肃...  \n",
       "1    [题目]\\n秦始皇统一六国后创制了一套御玺。如任命国家官员，则封印“皇帝之玺”；若任命四夷的...  \n",
       "2    [题目]\\n北宋加强中央集权的主要措施有（   ）\\n①把主要将领的兵权收归中央②派文官担任...  \n",
       "3    [题目]\\n商朝人崇信各种鬼神，把占卜、祭祀作为与神灵沟通的手段，负责通神事务的是商王和巫师...  \n",
       "4    [题目]\\n公元963年，北宋政府在江淮地区设置了包括盐业管理，以及控制对茶叶销售的专卖等为...  \n",
       "5    [题目]\\n《左传》有云：“昔周公、大公股肱周室，夹辅成王。成王劳之，而赐之盟，曰：世世子孙...  \n",
       "6    [题目]\\n某一同学在研究性学习过程中搜集了如下一组图片，据此判断他的研究主题是（     ...  \n",
       "7    [题目]\\n古人对秦朝短期而亡的主要原因的分析，最准确的是（  ）A. “废先王之道，燔百家...  \n",
       "8    [题目]\\n《汉书·武帝纪》记载：“春正月，诏曰：‘梁王、城阳王亲慈同生，愿以邑分弟，其许之...  \n",
       "9    [题目]\\n元代行省的设置，无视历来与划界密切相关的几条最重要的山川边界——秦岭、淮河、南岭...  \n",
       "10   [题目]\\n西周的分封制规定，被封的诸侯国必须服从周天子的命令，诸侯的义务有（  ）\\n① ...  \n",
       "11   [题目]\\n公元前127年，汉皇帝规定诸侯王除由嫡长子继承王位外，其他诸子都在王国范围内分到...  \n",
       "12   [题目]\\n梁启超认为,在汉朝,中国发生了一场有意义的革命,打破了三代以来贵族政治的局面。这...  \n",
       "13   [题目]\\n《左传》记载“昔武王克商，光有天下，其兄弟之国者十有五人，姬姓之国者四十人，皆举...  \n",
       "14   [题目]\\n战国时期，官员禄秩的秩名来自俸禄额度。秦国和燕国，俸禄成为官阶，出现了三百石以上...  \n",
       "15   [题目]\\n马克思在《世界文明史》中说：“唐宋时期的国家体制可称之为中央集权的君主制……中央...  \n",
       "16   [题目]\\n有网友发表帖子讨论科举制时说：“自秦以来，科举兴于世，始以八股为试，学子彻夜秉读...  \n",
       "17   [题目]\\n下图中两位思想家\\nA. 所持道德观与价值观完全相反 B. 都符合统治阶级治国的...  \n",
       "18   [题目]\\n史载，周文王“孝友二虢（文王同辈），而惠慈二蔡（文王子辈），刑于大姒，比于诸弟。...  \n",
       "19   [题目]\\n《史记·商君传》：“筑冀阙、宫庭于咸阳，秦自雍徙都之。而集小都乡邑聚为县，置令丞...  \n",
       "20   [题目]\\n唐朝时刘晏长期掌管国家财政大权，为官廉洁，被称为“工于谋国而拙于谋身的一代良相”...  \n",
       "21   [题目]\\n“一只船桨能翻出万顷波涛，一支鞭高扬走进金戈沙场，空荡荡的舞台能穷尽十八相送，一...  \n",
       "22   [题目]\\n在中国古代“家国一体”的社会中，忠孝观念源远流长，其源头是（  ）A. 宗法制B...  \n",
       "23   [题目]\\n钱穆在《国史大纲》中讲到中国古代的一种政治制度时写道：“……遂破以军功封侯拜相之...  \n",
       "24   [题目]\\n明代内阁和清代军机处的共同之处是（   ）A. 统领六部，处理各种政务B. 参与...  \n",
       "25   [题目]\\n某学者指出，限定宗法制内涵的前提是肯定宗法制源于原始时代后期的父系家长制，这自然...  \n",
       "26   [题目]\\n在中国历史上，孔子曾有“边缘化”“神化”“僵化”“维新化”“丑化”等多种形象，其...  \n",
       "27   [题目]\\n孔子曰“非礼勿视，非礼勿听，非礼勿言，”“重礼敬德”的中华礼仪传统在历史长河中沉...  \n",
       "28   [题目]\\n日本学者内藤湖南在《中国近代史》中说：“在贵族政治时代，贵族们有掌握权力的习惯，...  \n",
       "29   [题目]\\n有史书记载某朝代政治制度时说：“计财之任虽三司之职，日生烦务、常程计度、薄书期会...  \n",
       "..                                                 ...  \n",
       "970  [题目]\\n下图所示为《唐书》所载830名进士的出身分布比例，由此可见，唐代科举制（   ）...  \n",
       "971  [题目]\\n《明世宗实录》载：“先是都察院差御史巡盐，（皇帝）批答稍误，以未下阁臣票拟也。刑...  \n",
       "972  [题目]\\n三省六部制在发展过程中，组织形式和权力各有演变，至隋，才整齐划一为三省六部，此制...  \n",
       "973  [题目]\\n西汉时，文帝出行，有人惊了他的马，这人被送交廷尉治罪，廷尉张释之只让他缴纳罚金，...  \n",
       "974  [题目]\\n提高皇帝身边近臣的权力来削减原来国家机关的实权是中国古代统治者强化君主专制的一种...  \n",
       "975  [题目]\\n古希腊思想家亚里士多德指出：“古往今来人们开始探索哲理，都应起于对自然万物的惊异...  \n",
       "976  [题目]\\n有学者评价某一历史事件时认为，罢除中书省，六部尚书归皇帝直接领导。“这样，皇帝既...  \n",
       "977  [题目]\\n唐朝前期设立政事堂作为宰相议事处所，凡遇军国大事，皆由政事堂会议商议决定，经皇帝...  \n",
       "978  [题目]\\n在西周的封国齐国的宗法制体系中，处于大宗地位的是(  )A. 周王B. 齐国国君...  \n",
       "979  [题目]\\n秦朝一位大臣向皇帝进言：“臣闻殷周之王千余岁，封子弟功臣：自为枝辅。今陛下有海内...  \n",
       "980  [题目]\\n据《中国古代职官》统计，两宋时期51%以上的进士任官前出身为平民，明清时期43%...  \n",
       "981  [题目]\\n元朝马致远的杂剧《破幽梦孤雁汉宫秋》取材昭君出塞故事，其笔下的汉室奸佞当权、外族...  \n",
       "982  [题目]\\n史学家唐德刚在《晚清七十年》中写道：“从秦国开始的我国历史上的第一次社会政治大转...  \n",
       "983  [题目]\\n下面所列内容为中国某朝代具有的一些特征。据此推断该朝代是（  ）\\n①国家官僚队...  \n",
       "984  [题目]\\n明朝万历年间，在皇位继承人问题上，因皇后一直无子，朝廷大臣按照明朝册立长子为太子...  \n",
       "985  [题目]\\n在谈到中国为什么没有发展出资本主义工业时，学者伊懋可（Mark Elvin）指出...  \n",
       "986  [题目]\\n元代《中庵集》卷十五中记载:“天子理万物,不能独为,责之中书。中书,所以行天子之...  \n",
       "987  [题目]\\n唐代参加科举考试的人，要经过“考核资叙郡县乡里名籍，父祖官名，内外族姻”，“刑家...  \n",
       "988  [题目]\\n钱穆在《中国历史研究法》一书中认为“自秦汉以来的郡县政治，到今天民国时代还存在，...  \n",
       "989  [题目]\\n唐宣宗认为大将李燧德才兼备，任命他为岭南节度使。在皇帝任命诏书已经发出后，门下省...  \n",
       "990  [题目]\\n制度的发展与统治者的设计初衷相违背的是（   ）A. 禅让制B. 分封制C. 宗...  \n",
       "991  [题目]\\n周朝通过血缘的亲疏，确立起一整套土地、财产和政治地位的分配与继承的制度是（  ）...  \n",
       "992  [题目]\\n史学家钱穆指出：“此制用意，在于用一个客观的考试标准，来不断地挑选社会上优秀分子...  \n",
       "993  [题目]\\n古代宰相的职权可概括为“入（宫）则参对（君主）而议政事”、“出（宫）则监察（百官...  \n",
       "994  [题目]\\n秦始皇说：“天下共苦战斗不休,以有侯王。赖宗庙，天下初定，又复立国，是树兵也，而...  \n",
       "995  [题目]\\n元朝实行行省制度，产生的影响不包括（  ）A. 有效地管辖辽阔的疆域     B...  \n",
       "996  [题目]\\n《通典》记载：汉武帝时“以（御史）中丞督司隶（校尉），司隶（校尉）督司直，司直督...  \n",
       "997  [题目]\\n《史记》叙述西周历史时写道：“封周公旦于少昊之虚曲阜。”下列有关周公受封的叙述，...  \n",
       "998  [题目]\\n有人说：“分封制是一把双刃剑,它同时给予中央集权和地方势力以合法性。至于哪处势力...  \n",
       "999  [题目]\\n“自秦、汉以来，仕者不世，然其贤人君子犹能识其先人，或至百世而不绝，无庙无宗而祖...  \n",
       "\n",
       "[1000 rows x 3 columns]"
      ]
     },
     "execution_count": 44,
     "metadata": {},
     "output_type": "execute_result"
    }
   ],
   "source": [
    "f = open(os.path.join(root,'古代史.csv'),encoding='utf-8')\n",
    "pd.read_csv(f)  "
   ]
  },
  {
   "cell_type": "code",
   "execution_count": 45,
   "metadata": {},
   "outputs": [],
   "source": [
    "ancient_his_df=pd.read_csv( open(os.path.join(root,'古代史.csv'),encoding='utf-8'))\n",
    "contemporary_his_df=pd.read_csv( open(os.path.join(root,'现代史.csv'),encoding='utf-8'))  \n",
    "modern_his_df=pd.read_csv( open(os.path.join(root,'近代史.csv'),encoding='utf-8')) "
   ]
  },
  {
   "cell_type": "markdown",
   "metadata": {},
   "source": [
    "# 简单处理"
   ]
  },
  {
   "cell_type": "code",
   "execution_count": 46,
   "metadata": {},
   "outputs": [
    {
     "data": {
      "text/html": [
       "<div>\n",
       "<style scoped>\n",
       "    .dataframe tbody tr th:only-of-type {\n",
       "        vertical-align: middle;\n",
       "    }\n",
       "\n",
       "    .dataframe tbody tr th {\n",
       "        vertical-align: top;\n",
       "    }\n",
       "\n",
       "    .dataframe thead th {\n",
       "        text-align: right;\n",
       "    }\n",
       "</style>\n",
       "<table border=\"1\" class=\"dataframe\">\n",
       "  <thead>\n",
       "    <tr style=\"text-align: right;\">\n",
       "      <th></th>\n",
       "      <th>web-scraper-order</th>\n",
       "      <th>web-scraper-start-url</th>\n",
       "      <th>item</th>\n",
       "    </tr>\n",
       "  </thead>\n",
       "  <tbody>\n",
       "    <tr>\n",
       "      <th>0</th>\n",
       "      <td>1566523436-2497</td>\n",
       "      <td>https://study.baidu.com/tiku</td>\n",
       "      <td>[题目]\\n据《左传》记载，春秋后期鲁国大夫季孙氏的家臣阳虎独掌权柄后，标榜要替鲁国国君整肃...</td>\n",
       "    </tr>\n",
       "    <tr>\n",
       "      <th>1</th>\n",
       "      <td>1566523436-2506</td>\n",
       "      <td>https://study.baidu.com/tiku</td>\n",
       "      <td>[题目]\\n秦始皇统一六国后创制了一套御玺。如任命国家官员，则封印“皇帝之玺”；若任命四夷的...</td>\n",
       "    </tr>\n",
       "    <tr>\n",
       "      <th>2</th>\n",
       "      <td>1566523436-2153</td>\n",
       "      <td>https://study.baidu.com/tiku</td>\n",
       "      <td>[题目]\\n北宋加强中央集权的主要措施有（   ）\\n①把主要将领的兵权收归中央②派文官担任...</td>\n",
       "    </tr>\n",
       "    <tr>\n",
       "      <th>3</th>\n",
       "      <td>1566523436-2328</td>\n",
       "      <td>https://study.baidu.com/tiku</td>\n",
       "      <td>[题目]\\n商朝人崇信各种鬼神，把占卜、祭祀作为与神灵沟通的手段，负责通神事务的是商王和巫师...</td>\n",
       "    </tr>\n",
       "    <tr>\n",
       "      <th>4</th>\n",
       "      <td>1566523436-1914</td>\n",
       "      <td>https://study.baidu.com/tiku</td>\n",
       "      <td>[题目]\\n公元963年，北宋政府在江淮地区设置了包括盐业管理，以及控制对茶叶销售的专卖等为...</td>\n",
       "    </tr>\n",
       "  </tbody>\n",
       "</table>\n",
       "</div>"
      ],
      "text/plain": [
       "  web-scraper-order         web-scraper-start-url  \\\n",
       "0   1566523436-2497  https://study.baidu.com/tiku   \n",
       "1   1566523436-2506  https://study.baidu.com/tiku   \n",
       "2   1566523436-2153  https://study.baidu.com/tiku   \n",
       "3   1566523436-2328  https://study.baidu.com/tiku   \n",
       "4   1566523436-1914  https://study.baidu.com/tiku   \n",
       "\n",
       "                                                item  \n",
       "0  [题目]\\n据《左传》记载，春秋后期鲁国大夫季孙氏的家臣阳虎独掌权柄后，标榜要替鲁国国君整肃...  \n",
       "1  [题目]\\n秦始皇统一六国后创制了一套御玺。如任命国家官员，则封印“皇帝之玺”；若任命四夷的...  \n",
       "2  [题目]\\n北宋加强中央集权的主要措施有（   ）\\n①把主要将领的兵权收归中央②派文官担任...  \n",
       "3  [题目]\\n商朝人崇信各种鬼神，把占卜、祭祀作为与神灵沟通的手段，负责通神事务的是商王和巫师...  \n",
       "4  [题目]\\n公元963年，北宋政府在江淮地区设置了包括盐业管理，以及控制对茶叶销售的专卖等为...  "
      ]
     },
     "execution_count": 46,
     "metadata": {},
     "output_type": "execute_result"
    }
   ],
   "source": [
    "ancient_his_df.head()"
   ]
  },
  {
   "cell_type": "code",
   "execution_count": 51,
   "metadata": {},
   "outputs": [],
   "source": [
    "def segment_line(line):\n",
    "    line = re.sub(\n",
    "            \"[a-zA-Z0-9]|[\\s+\\-\\|\\!\\/\\[\\]\\{\\}_,.$%^*(+\\\"\\')]+|[:：+——()?【】《》“”！，。？、~@#￥%……&*（）]+|题目\", '',line)\n",
    "    tokens = jieba.cut(line, cut_all=False)\n",
    "    return \" \".join(tokens)"
   ]
  },
  {
   "cell_type": "code",
   "execution_count": 52,
   "metadata": {},
   "outputs": [
    {
     "data": {
      "text/plain": [
       "'据 左传 记载 春秋 后期 鲁国 大夫 季孙氏 的 家臣 阳虎 独掌 权柄 后 标榜 要 替 鲁国 国君 整'"
      ]
     },
     "execution_count": 52,
     "metadata": {},
     "output_type": "execute_result"
    }
   ],
   "source": [
    "segment_line('[题目]\\n据《左传》记载，春秋后期鲁国大夫季孙氏的家臣阳虎独掌权柄后，标榜要替鲁国国君整')"
   ]
  },
  {
   "cell_type": "code",
   "execution_count": 53,
   "metadata": {},
   "outputs": [
    {
     "name": "stdout",
     "output_type": "stream",
     "text": [
      "Wall time: 5.59 s\n"
     ]
    }
   ],
   "source": [
    "%%time\n",
    "ancient_his_df['item']=ancient_his_df['item'].apply(lambda x:segment_line(x))\n",
    "contemporary_his_df['item']=contemporary_his_df['item'].apply(lambda x:segment_line(x))\n",
    "modern_his_df['item']=modern_his_df['item'].apply(lambda x:segment_line(x))"
   ]
  },
  {
   "cell_type": "code",
   "execution_count": 54,
   "metadata": {},
   "outputs": [
    {
     "data": {
      "text/html": [
       "<div>\n",
       "<style scoped>\n",
       "    .dataframe tbody tr th:only-of-type {\n",
       "        vertical-align: middle;\n",
       "    }\n",
       "\n",
       "    .dataframe tbody tr th {\n",
       "        vertical-align: top;\n",
       "    }\n",
       "\n",
       "    .dataframe thead th {\n",
       "        text-align: right;\n",
       "    }\n",
       "</style>\n",
       "<table border=\"1\" class=\"dataframe\">\n",
       "  <thead>\n",
       "    <tr style=\"text-align: right;\">\n",
       "      <th></th>\n",
       "      <th>web-scraper-order</th>\n",
       "      <th>web-scraper-start-url</th>\n",
       "      <th>item</th>\n",
       "    </tr>\n",
       "  </thead>\n",
       "  <tbody>\n",
       "    <tr>\n",
       "      <th>0</th>\n",
       "      <td>1566523436-2497</td>\n",
       "      <td>https://study.baidu.com/tiku</td>\n",
       "      <td>据 左传 记载 春秋 后期 鲁国 大夫 季孙氏 的 家臣 阳虎 独掌 权柄 后 标榜 要 替...</td>\n",
       "    </tr>\n",
       "    <tr>\n",
       "      <th>1</th>\n",
       "      <td>1566523436-2506</td>\n",
       "      <td>https://study.baidu.com/tiku</td>\n",
       "      <td>秦始皇 统一 六国后 创制 了 一套 御玺 如 任命 国家 官员 则 封印 皇帝 之玺 ； ...</td>\n",
       "    </tr>\n",
       "    <tr>\n",
       "      <th>2</th>\n",
       "      <td>1566523436-2153</td>\n",
       "      <td>https://study.baidu.com/tiku</td>\n",
       "      <td>北宋 加强 中央集权 的 主要 措施 有 ① 把 主要 将领 的 兵权 收归 中央 ② 派 ...</td>\n",
       "    </tr>\n",
       "    <tr>\n",
       "      <th>3</th>\n",
       "      <td>1566523436-2328</td>\n",
       "      <td>https://study.baidu.com/tiku</td>\n",
       "      <td>商朝人 崇信 各种 鬼神 把 占卜 祭祀 作为 与 神灵 沟通 的 手段 负责 通神 事务 ...</td>\n",
       "    </tr>\n",
       "    <tr>\n",
       "      <th>4</th>\n",
       "      <td>1566523436-1914</td>\n",
       "      <td>https://study.baidu.com/tiku</td>\n",
       "      <td>公元 年 北宋 政府 在 江淮地区 设置 了 包括 盐业 管理 以及 控制 对 茶叶 销售 ...</td>\n",
       "    </tr>\n",
       "  </tbody>\n",
       "</table>\n",
       "</div>"
      ],
      "text/plain": [
       "  web-scraper-order         web-scraper-start-url  \\\n",
       "0   1566523436-2497  https://study.baidu.com/tiku   \n",
       "1   1566523436-2506  https://study.baidu.com/tiku   \n",
       "2   1566523436-2153  https://study.baidu.com/tiku   \n",
       "3   1566523436-2328  https://study.baidu.com/tiku   \n",
       "4   1566523436-1914  https://study.baidu.com/tiku   \n",
       "\n",
       "                                                item  \n",
       "0  据 左传 记载 春秋 后期 鲁国 大夫 季孙氏 的 家臣 阳虎 独掌 权柄 后 标榜 要 替...  \n",
       "1  秦始皇 统一 六国后 创制 了 一套 御玺 如 任命 国家 官员 则 封印 皇帝 之玺 ； ...  \n",
       "2  北宋 加强 中央集权 的 主要 措施 有 ① 把 主要 将领 的 兵权 收归 中央 ② 派 ...  \n",
       "3  商朝人 崇信 各种 鬼神 把 占卜 祭祀 作为 与 神灵 沟通 的 手段 负责 通神 事务 ...  \n",
       "4  公元 年 北宋 政府 在 江淮地区 设置 了 包括 盐业 管理 以及 控制 对 茶叶 销售 ...  "
      ]
     },
     "execution_count": 54,
     "metadata": {},
     "output_type": "execute_result"
    }
   ],
   "source": [
    "ancient_his_df.head()"
   ]
  },
  {
   "cell_type": "markdown",
   "metadata": {},
   "source": [
    "# 贴标签"
   ]
  },
  {
   "cell_type": "code",
   "execution_count": 55,
   "metadata": {},
   "outputs": [],
   "source": [
    "ancient_his_df['label']=0\n",
    "contemporary_his_df['label']=1\n",
    "modern_his_df['label']=2"
   ]
  },
  {
   "cell_type": "code",
   "execution_count": 56,
   "metadata": {},
   "outputs": [
    {
     "data": {
      "text/html": [
       "<div>\n",
       "<style scoped>\n",
       "    .dataframe tbody tr th:only-of-type {\n",
       "        vertical-align: middle;\n",
       "    }\n",
       "\n",
       "    .dataframe tbody tr th {\n",
       "        vertical-align: top;\n",
       "    }\n",
       "\n",
       "    .dataframe thead th {\n",
       "        text-align: right;\n",
       "    }\n",
       "</style>\n",
       "<table border=\"1\" class=\"dataframe\">\n",
       "  <thead>\n",
       "    <tr style=\"text-align: right;\">\n",
       "      <th></th>\n",
       "      <th>web-scraper-order</th>\n",
       "      <th>web-scraper-start-url</th>\n",
       "      <th>item</th>\n",
       "      <th>label</th>\n",
       "    </tr>\n",
       "  </thead>\n",
       "  <tbody>\n",
       "    <tr>\n",
       "      <th>0</th>\n",
       "      <td>1566523734-4238</td>\n",
       "      <td>https://study.baidu.com/tiku</td>\n",
       "      <td>下表是 美国 欧共体 和 日本 的 国民经济 占 世界 经济总量 的 比例表 单位 亿美元 ...</td>\n",
       "      <td>2</td>\n",
       "    </tr>\n",
       "    <tr>\n",
       "      <th>1</th>\n",
       "      <td>1566523734-2719</td>\n",
       "      <td>https://study.baidu.com/tiku</td>\n",
       "      <td>新 中国 成立 后 我国 外交政策 不断 走向 成熟 并 于 世纪 年代 最终 有 了 自己...</td>\n",
       "      <td>2</td>\n",
       "    </tr>\n",
       "    <tr>\n",
       "      <th>2</th>\n",
       "      <td>1566523734-3826</td>\n",
       "      <td>https://study.baidu.com/tiku</td>\n",
       "      <td>有 学者 通过 计量 化 的 统计 得出 在 年底 到 年底 国民党 正面战场 组织 了 南...</td>\n",
       "      <td>2</td>\n",
       "    </tr>\n",
       "    <tr>\n",
       "      <th>3</th>\n",
       "      <td>1566523734-3460</td>\n",
       "      <td>https://study.baidu.com/tiku</td>\n",
       "      <td>抗战时期 以 四川 为 中心 的 大后方 经济 迅速 发展 至 年 其 工厂 占 了 国统区...</td>\n",
       "      <td>2</td>\n",
       "    </tr>\n",
       "    <tr>\n",
       "      <th>4</th>\n",
       "      <td>1566523734-3920</td>\n",
       "      <td>https://study.baidu.com/tiku</td>\n",
       "      <td>春联 是 中国 特有 的 文学艺术 形式 许多 春联 折射出 了 历史 的 变迁 内容 具有...</td>\n",
       "      <td>2</td>\n",
       "    </tr>\n",
       "  </tbody>\n",
       "</table>\n",
       "</div>"
      ],
      "text/plain": [
       "  web-scraper-order         web-scraper-start-url  \\\n",
       "0   1566523734-4238  https://study.baidu.com/tiku   \n",
       "1   1566523734-2719  https://study.baidu.com/tiku   \n",
       "2   1566523734-3826  https://study.baidu.com/tiku   \n",
       "3   1566523734-3460  https://study.baidu.com/tiku   \n",
       "4   1566523734-3920  https://study.baidu.com/tiku   \n",
       "\n",
       "                                                item  label  \n",
       "0  下表是 美国 欧共体 和 日本 的 国民经济 占 世界 经济总量 的 比例表 单位 亿美元 ...      2  \n",
       "1  新 中国 成立 后 我国 外交政策 不断 走向 成熟 并 于 世纪 年代 最终 有 了 自己...      2  \n",
       "2  有 学者 通过 计量 化 的 统计 得出 在 年底 到 年底 国民党 正面战场 组织 了 南...      2  \n",
       "3  抗战时期 以 四川 为 中心 的 大后方 经济 迅速 发展 至 年 其 工厂 占 了 国统区...      2  \n",
       "4  春联 是 中国 特有 的 文学艺术 形式 许多 春联 折射出 了 历史 的 变迁 内容 具有...      2  "
      ]
     },
     "execution_count": 56,
     "metadata": {},
     "output_type": "execute_result"
    }
   ],
   "source": [
    "modern_his_df.head()"
   ]
  },
  {
   "cell_type": "markdown",
   "metadata": {},
   "source": [
    "# 数据集"
   ]
  },
  {
   "cell_type": "code",
   "execution_count": 65,
   "metadata": {},
   "outputs": [],
   "source": [
    "dataset_df=pd.concat([ancient_his_df,contemporary_his_df,modern_his_df])"
   ]
  },
  {
   "cell_type": "code",
   "execution_count": 68,
   "metadata": {},
   "outputs": [
    {
     "data": {
      "text/plain": [
       "1    2330\n",
       "2    1640\n",
       "0    1000\n",
       "Name: label, dtype: int64"
      ]
     },
     "execution_count": 68,
     "metadata": {},
     "output_type": "execute_result"
    }
   ],
   "source": [
    "dataset_df.label.value_counts()"
   ]
  },
  {
   "cell_type": "code",
   "execution_count": 67,
   "metadata": {},
   "outputs": [],
   "source": [
    "dataset_df.reset_index(inplace=True)"
   ]
  },
  {
   "cell_type": "markdown",
   "metadata": {},
   "source": [
    "# 提取特征"
   ]
  },
  {
   "cell_type": "markdown",
   "metadata": {},
   "source": [
    "```\n",
    ">>> from sklearn.feature_extraction.text import TfidfVectorizer\n",
    ">>> corpus = [\n",
    "...     'This is the first document.',\n",
    "...     'This document is the second document.',\n",
    "...     'And this is the third one.',\n",
    "...     'Is this the first document?',\n",
    "... ]\n",
    ">>> vectorizer = TfidfVectorizer()\n",
    ">>> X = vectorizer.fit_transform(corpus)\n",
    ">>> print(vectorizer.get_feature_names())\n",
    "['and', 'document', 'first', 'is', 'one', 'second', 'the', 'third', 'this']\n",
    ">>> print(X.shape)\n",
    "(4, 9)\n",
    "```"
   ]
  },
  {
   "cell_type": "code",
   "execution_count": 60,
   "metadata": {},
   "outputs": [],
   "source": [
    "from sklearn.feature_extraction.text import TfidfVectorizer,CountVectorizer,TfidfTransformer"
   ]
  },
  {
   "cell_type": "code",
   "execution_count": 69,
   "metadata": {},
   "outputs": [],
   "source": [
    "corpus=dataset_df['item']"
   ]
  },
  {
   "cell_type": "code",
   "execution_count": 70,
   "metadata": {
    "scrolled": true
   },
   "outputs": [
    {
     "data": {
      "text/plain": [
       "0       据 左传 记载 春秋 后期 鲁国 大夫 季孙氏 的 家臣 阳虎 独掌 权柄 后 标榜 要 替...\n",
       "1       秦始皇 统一 六国后 创制 了 一套 御玺 如 任命 国家 官员 则 封印 皇帝 之玺 ； ...\n",
       "2       北宋 加强 中央集权 的 主要 措施 有 ① 把 主要 将领 的 兵权 收归 中央 ② 派 ...\n",
       "3       商朝人 崇信 各种 鬼神 把 占卜 祭祀 作为 与 神灵 沟通 的 手段 负责 通神 事务 ...\n",
       "4       公元 年 北宋 政府 在 江淮地区 设置 了 包括 盐业 管理 以及 控制 对 茶叶 销售 ...\n",
       "5       左传 有云昔 周公 大公 股肱 周室 夹辅成 王成 王劳 之 而 赐 之盟 曰 世世 子孙 ...\n",
       "6       某一 同学 在 研究性 学习 过程 中 搜集 了 如下 一组 图片 据此 判断 他 的 研究...\n",
       "7       古人 对 秦朝 短期 而亡 的 主要 原因 的 分析 最 准确 的 是 废先 王之道 燔 百...\n",
       "8       汉书 · 武帝纪 记载 春 正月 诏 曰 ‘ 梁王 城阳 王亲 慈同 生愿 以 邑 分弟 其...\n",
       "9       元代 行省 的 设置 无视 历来 与 划界 密切相关 的 几条 最 重要 的 山川 边界 秦...\n",
       "10      西周 的 分封制 规定 被 封 的 诸侯国 必须 服从 周天子 的 命令 诸侯 的 义务 有...\n",
       "11      公元前 年汉 皇帝 规定 诸侯王 除 由 嫡长子 继承 王位 外 其他 诸子都 在 王国 范...\n",
       "12      梁启超 认为 在 汉朝 中国 发生 了 一场 有 意义 的 革命 打破 了 三代 以来 贵族...\n",
       "13      左传 记载 昔武 王克商 光有 天下 其 兄弟 之 国者 十有 五人 姬姓 之 国者 四十 ...\n",
       "14      战国时期 官员 禄秩 的 秩名 来自 俸禄 额度 秦国 和 燕国 俸禄 成为 官阶 出现 了...\n",
       "15      马克思 在 世界 文明史 中说 唐宋 时期 的 国家 体制 可 称之为 中央集权 的 君主制...\n",
       "16      有 网友 发表 帖子 讨论 科举制 时说 自秦 以来 科举 兴于 世始 以 八股 为试 学子...\n",
       "17      下图 中 两位 思想家 所 持 道德观 与 价值观 完全 相反 都 符合 统治阶级 治国 的...\n",
       "18      史载 周文王 孝友 二 虢 文王 同辈 而惠 慈二 蔡文 王子 辈刑 于 大 姒 比于 诸弟...\n",
       "19      史记 · 商君 传筑冀 阙 宫庭 于 咸阳 秦自雍徙 都 之 而 集小 都 乡 邑 聚为 县...\n",
       "20      唐朝 时 刘晏 长期 掌管 国家 财政 大权 为官 廉洁 被 称为 工于 谋国 而 拙于 谋...\n",
       "21      一只 船桨 能 翻出 万顷 波涛 一支 鞭 高扬 走进 金戈 沙场 空荡荡 的 舞台 能 穷...\n",
       "22      在 中国 古代 家国 一体 的 社会 中 忠孝 观念 源远流长 其 源头 是 宗 法制 郡县...\n",
       "23      钱穆 在 国史大纲 中 讲 到 中国 古代 的 一种 政治 制度 时 写道 遂 破以 军功 ...\n",
       "24      明代 内阁 和 清代 军机处 的 共同之处 是 统领 六部 处理 各种 政务 参与 决策 并...\n",
       "25      某 学者 指出 限定 宗 法制 内涵 的 前提 是 肯定 宗 法制 源于 原始时代 后期 的...\n",
       "26      在 中国 历史 上 孔子 曾 有 边缘化 神化 僵化 维新 化 丑化 等 多种 形象 其中 ...\n",
       "27      孔子 曰 非礼勿视 非礼 勿 听 非礼 勿言 重 礼敬 德 的 中华 礼仪 传统 在 历史长...\n",
       "28      日本 学者 内藤 湖南 在 中国 近代史 中说 在 贵族政治 时代 贵族 们 有 掌握权力 ...\n",
       "29      有 史书 记载 某 朝代 政治 制度 时说 计财之任 虽三司 之 职日生 烦务常程 计度 薄...\n",
       "                              ...                        \n",
       "4940    冯友兰 把 人生 分为 四种 境界 这 四种 人生 境界 之中 自然 境界 功利 境界 的 ...\n",
       "4941    据 下图 信息 判断 它 反映 的 历史 事件 是 鸦片战争 第二次 鸦片战争 甲午 中日战...\n",
       "4942    航行 半年 后 船队 突然 遭遇 了 一次 罕见 的 风暴 在 被 风暴 裹挟 被动 地向 ...\n",
       "4943    詹天佑 是 近代 中国 第一批 官办 留学 幼童 中 的 一员 岁 考入 美国耶鲁大学 专攻...\n",
       "4944    从 年 到 年 以前 民族 工业 中 资本 超过 万元 的 大厂 寥寥无几 年 以后 资本 ...\n",
       "4945    知有 兵事 而 不知 有 民政 知有 外交 而 不知 有 内治知 有 朝廷 而 不知 有 国...\n",
       "4946    有 一种 观点 认为 粗看 一 战后 的 全球 它 显示 出 的 变化 相当 少 欧洲 的 ...\n",
       "4947    辛亥革命 使 军阀统治 不 可能 形成 像 清政府 那样 集权 的 全国 一体化 的 严密 ...\n",
       "4948    有 学者 认为 全球 政治 地理 从 年 一个 世界 走向 世纪 年代 的 三个 世界 然后...\n",
       "4949    一些 西方 史学家 称 鸦片战争 是 通商 战争 认为 这场 战争 是 为了 维护 英国 的...\n",
       "4950    读图 它 是 新民主主义革命 时期 中共 某次 军事行动 的 主要 路线图 这次 行动 应该...\n",
       "4951    下表为 某 同学 整理 的 政治文明 成就 表 其中 ① ② 应 分别 填入 主题 ① 雅典...\n",
       "4952    冲击 反应 模式 是 国内外 史学界 解释 中国 近代 历史 的 模式 之一 其 主要 观点...\n",
       "4953    农工商 部向 各省 发出 长篇 通告 提出 欧战 正是 工商业 发达 之 转机 公布 维持 ...\n",
       "4954    英国 棉制品 在 英国 本土 直接 与 印度 棉制品 进行 了 竞争 完全 击败 了 其 印...\n",
       "4955    我国 是 统一 的 多 民族 国家 新 中国 处理 民族 关系 的 一项 基本 的 政治 制...\n",
       "4956    下列 关于 当今世界 格局 的 表述 错误 的 是 世界 正 朝着 多极化 趋势 发展 美国...\n",
       "4957    文艺复兴 和 启蒙运动 是 世界 近代史 上 发生 的 两大 思想解放 运动 由于 它们 发...\n",
       "4958    年月日 蒋介石 发表 庐山 讲话 因为 我们 是 弱国 所以 不可 求战 但 到 了 必不得...\n",
       "4959    某 同学 在 图书馆 查阅 资料 时 发现 了 中国 古代 某地 居民 的 一份 职业 结构...\n",
       "4960    刘军宁 在读 ＜ 法国 革命 论 ＞ 与 ＜ 旧 制度 与 大革命 ＞ 中写 到 最好 的 ...\n",
       "4961    有人 用 现代 经济学家 费雪 提出 的 货币 数量 方程式 = 分别 代表 价格 交易量 ...\n",
       "4962    人口 流动 反映 了 社会 的 变迁 材料 一至 世纪 中国 境内 民族 迁移 示意图 材料...\n",
       "4963    阅读 材料 回答 问题 材料 众所周知 中国 未能 自主 现代化 是 被 人 轰出 中世纪 ...\n",
       "4964    洋务运动 欲 自强 而 不强 的 结局 从根本上 说 是因为 没有 坚决 抵抗 西方 列强 ...\n",
       "4965    下表为 新 中国 成立 初期 各级 党政机关 受理 的 群众 来信 来访 情况 由此可见 建...\n",
       "4966    受脱 欧 公投 的 影响 英国首相 卡梅伦于 年月日 前往 白金汉宫 向 英国女王 伊丽莎白...\n",
       "4967    我们 或许 正 生活 在 自 我们 这个 物种 存在 以来 最 和平 的 时期 但 最近 的...\n",
       "4968    但丁 说 走 自己 的 路 让 别人 去 说 吧 伏尔泰 说 我 不 同意 你 说 的 每 ...\n",
       "4969    这 是 种 全新 的 反省 开始 以人 的 眼光 从 人 的 立场 出发 来 观察 生活 对...\n",
       "Name: item, Length: 4970, dtype: object"
      ]
     },
     "execution_count": 70,
     "metadata": {},
     "output_type": "execute_result"
    }
   ],
   "source": [
    "corpus"
   ]
  },
  {
   "cell_type": "markdown",
   "metadata": {},
   "source": [
    "$词频(TF)=某个词在章中出现的概率$\n",
    "\n",
    "$词频(TF)=\\left(\\frac{某个词在文章中出现的概率}{文章总词数}\\right)$\n",
    "\n"
   ]
  },
  {
   "cell_type": "markdown",
   "metadata": {},
   "source": [
    "$IDF=\\log \\left(\\frac{语料库的文档总数}{包含该词的文档数+1}\\right)$\n",
    "\n",
    "$TF-IDF=TF*IDF$\n",
    "> TF-IDF与一个词在文档中的出现次数成正比，与该词在整个语言中的出现次数成反比。所以，自动提取关键词的算法就很清楚了，就是计算出文档的每个词的TF-IDF值，然后按降序排列，取排在最前面的几个词。"
   ]
  },
  {
   "cell_type": "code",
   "execution_count": 71,
   "metadata": {},
   "outputs": [],
   "source": [
    "vectorizer = TfidfVectorizer(max_features=2500,min_df=5)\n",
    "X = vectorizer.fit_transform(corpus)"
   ]
  },
  {
   "cell_type": "code",
   "execution_count": 72,
   "metadata": {},
   "outputs": [
    {
     "name": "stdout",
     "output_type": "stream",
     "text": [
      "['一个', '一五', '一些', '一人', '一位', '一体', '一体化', '一切', '一国两制', '一场', '一天', '一定', '一带', '一年', '一律', '一战', '一批', '一方面', '一时期', '一条', '一样', '一次', '一点', '一直', '一种', '一系列', '一致', '一般', '一词', '一起', '一边倒', '一部', '一部分', '一项', '万元', '万有引力', '万物', '万隆会议', '三个', '三个代表', '三公九卿', '三司', '三国', '三大', '三年', '三权分立', '三次', '三民主义', '三省', '三种', '三纲五常', '三项', '上升', '上帝', '上海', '上述', '下列', '下图', '下层', '下表', '下表为', '下表是', '下议院', '下降', '下面', '不仅', '不会', '不再', '不利于', '不可', '不合', '不同', '不够', '不得', '不得不', '不敢', '不断', '不断加强', '不断扩大', '不断进步', '不是', '不治', '不满', '不知', '不符', '不结盟', '不结盟运动', '不能', '不许', '不足', '不过', '不选', '不难', '与题', '专制', '专制主义', '专制制度', '专政', '专门', '世界', '世界各地', '世界市场', '世界贸易组织', '世界银行', '世纪', '世纪末', '世袭', '世袭制', '世贸组织', '东南', '东方', '东欧', '东汉', '东西', '东西方', '丞相', '两个', '两代', '两党制', '两国', '两大', '两岸', '两弹一星', '两极', '两次', '两种', '两者', '两项', '严刑峻法', '严密', '严峻形势', '严格', '严禁', '严重', '丧失', '个人', '个体', '个性', '中世纪', '中书', '中书省', '中体西用', '中共', '中共中央', '中共十一届三中全会', '中华', '中华人民共和国', '中华民国', '中华民族', '中叶', '中后期', '中国', '中国共产党', '中国政府', '中外', '中央', '中央政府', '中央集权', '中学', '中心', '中日', '中日战争', '中有', '中期', '中未', '中枢', '中美', '中美关系', '中苏关系', '中说', '中间', '丰富', '临时', '临时政府', '为主', '为了', '为此', '为用', '为首', '主义', '主体', '主导', '主导地位', '主席', '主干', '主张', '主持', '主旨', '主权', '主流', '主要', '主观', '主题', '举措', '举行', '义务', '义和团运动', '之一', '之上', '之下', '之中', '之争', '之初', '之前', '之势', '之后', '之外', '之所以', '之权', '之道', '之间', '之际', '乐舞', '九品中正', '习惯法', '习近平', '乡村', '书房', '书法艺术', '买卖', '了解', '予以', '争取', '争夺', '争霸', '事业', '事件', '事务', '事实', '事情', '事物', '二战', '二月', '二者', '于是', '互助', '互相', '互联网', '五口', '五四', '五四运动', '五年计划', '五项原则', '亚太经合组织', '亚洲', '亚里士多德', '亚非', '交往', '交流', '交通', '产业', '产品', '产地', '产物', '产生', '产量', '享有', '京剧', '人人', '人们', '人口', '人员', '人士', '人大', '人心', '人性', '人才', '人数', '人文主义', '人文精神', '人权宣言', '人民', '人民代表大会', '人民公社', '人民公社化', '人物', '人类', '亿元', '什么', '仁政', '今天', '今日', '介绍', '仍然', '从中', '从事', '从根本上', '从此', '从而', '从题', '仔细阅读', '他们', '代替', '代表', '代表团', '代议制', '以上', '以下', '以为', '以前', '以及', '以后', '以外', '以工代赈', '以来', '以此', '价值', '价值观', '价格', '任何', '任免', '任务', '任命', '任期', '企业', '企图', '伏尔泰', '众议院', '优先发展', '优势', '会合', '会战', '会议', '伟大', '伟大意义', '传入', '传承', '传播', '传统', '传统观念', '伤寒', '伦敦', '伦理', '伦理道德', '伽利略', '但是', '位于', '体制', '体现', '体系', '体西学', '佛教', '作为', '作出', '作品', '作战', '作用', '作者', '使得', '使用', '依据', '依然', '依赖', '依靠', '侵华', '侵犯', '侵略', '便于', '便是', '促使', '促成', '促进', '俄国', '俄罗斯', '保守', '保护', '保持', '保留', '保证', '保障', '信仰', '信息', '修改', '借助', '借鉴', '倡导', '倾向', '倾销', '做出', '做到', '做法', '停止', '僵化', '儒学', '儒家', '儒家思想', '儒术', '允许', '元代', '元曲', '元朝', '兄弟', '充分', '充满', '先后', '先河', '先生', '先秦', '先进', '光荣革命', '克服', '入仕', '全国', '全方位', '全球', '全球化', '全部', '全面', '八国联军', '公元前', '公司', '公平', '公开', '公有制', '公正', '公民', '公社', '六部', '共产主义', '共产党', '共同', '共同点', '共同纲领', '共和', '共和制', '共和国', '共和政体', '共识', '关于', '关注', '关税', '关系', '关贸总协定', '关键', '关键词', '兴办', '兴盛', '兴起', '其中', '其他', '其余', '其它', '其实', '具体', '具备', '具有', '典型', '兼并', '兼爱', '内地', '内外', '内容', '内战', '内涵', '内迁', '内部', '内阁', '内阁制', '再次', '再现', '再认', '写道', '军事', '军功', '军政', '军机处', '军机大臣', '军阀', '军队', '农业', '农产品', '农商', '农抑商', '农村', '农民', '农民阶级', '农耕', '冲击', '冲破', '冲突', '决定', '决策', '决策权', '决议', '冷战', '准备', '准确', '减少', '几个', '几乎', '凡尔赛', '出于', '出去', '出发', '出口', '出售', '出来', '出版', '出现', '出自', '出身', '分为', '分别', '分割', '分化', '分封', '分封制', '分工', '分布', '分散', '分权', '分析', '分析判断', '分歧', '分离', '分裂', '分配', '划分', '列宁', '列强', '创作', '创办', '创建', '创新', '创立', '创造', '初年', '初期', '初步', '判断', '利润', '利用', '利益', '到来', '到达', '制定', '制度', '制是', '制约', '制衡', '制造', '制造业', '刺史', '刺激', '削弱', '前后', '前提', '前期', '前者', '剧变', '割据', '力图', '力学', '力量', '办法', '功绩', '功能', '功臣', '加以', '加入', '加剧', '加强', '加快', '加深', '加紧', '加速', '动力', '动摇', '动荡', '努力', '劳动', '劳动力', '劳动者', '势力', '包含', '包围', '包括', '北京', '北伐战争', '北宋', '北方', '北约', '北美', '北美自由贸易区', '区别', '区域', '十一届三中全会', '十分', '十年', '十月革命', '半封建社会', '半殖民地', '华北', '华盛顿', '协商', '协定', '协议', '协调', '单位', '单选题', '南京', '南北', '南宋', '南方', '南移', '占据', '占领', '卢梭', '印度', '印度支那', '印象', '危机', '危险', '即可', '即将', '卷入', '卿大夫', '历代', '历史', '历史事实', '历史学家', '历史潮流', '历程', '压制', '压力', '压迫', '原则', '原因', '原始积累', '原料', '原有', '参与', '参加', '参知政事', '参议院', '及其', '友好', '双方', '反对', '反封建', '反帝', '反抗', '反映', '发出', '发动', '发展', '发展中国家', '发展观', '发展趋势', '发挥', '发明', '发现', '发生', '发生变化', '发行', '发表', '发达', '发达国家', '取代', '取决于', '取士', '取得', '取消', '受到', '变为', '变动', '变化', '变得', '变成', '变法', '变迁', '变革', '叙述', '口号', '古代', '古希腊', '另外', '只是', '只有', '只能', '只要', '召开', '可以', '可知', '可能', '可见', '台湾', '史学', '史学家', '史实', '史料', '史观', '史记', '史论', '司法', '司法权', '各个', '各国', '各地', '各州', '各省', '各种', '各自', '各项', '合作', '合作化', '合法', '合法席位', '合理', '合理性', '同一', '同姓', '同学', '同意', '同时', '同样', '同盟', '名字', '名称', '后世', '后期', '后来', '后者', '君主', '君主专制', '君主制', '君主立宪', '君主立宪制', '君权', '君权神授', '君臣', '否决', '否则', '否定', '含义', '含有', '启动', '启蒙', '启蒙运动', '吸取', '吸收', '呈现', '呈现出', '周天子', '周恩来', '周朝', '周王', '周礼', '命令', '和平', '和平共处', '和谐', '哥伦布', '哥白尼', '哲学', '唐代', '唐太宗', '唐宋', '唐朝', '唐诗', '唯一', '唯物主义', '商业', '商业活动', '商人', '商品', '商品化', '商品经济', '商朝', '商贾', '商鞅', '四个', '四川', '回到', '回归', '回答', '因为', '因此', '因素', '因而', '团结', '困境', '困难', '围绕', '国人', '国会', '国共', '国共两党', '国共合作', '国内', '国君', '国家', '国家主权', '国家元首', '国情', '国民', '国民党', '国民政府', '国民经济', '国民革命', '国王', '国货', '国际', '国际货币基金组织', '国际贸易', '图片', '图示', '图表', '土地', '土地改革', '土地革命', '土布', '圣人', '在于', '地主', '地主阶级', '地位', '地区', '地图', '地方', '地球', '地理', '均衡', '坚持', '垄断', '垄断组织', '城乡', '城市', '城市化', '城邦', '基于', '基层', '基本', '基督教', '基础', '基础知识', '境界', '增加', '增多', '增大', '增强', '增长', '增长率', '墨子', '墨家', '士大夫', '士族', '壮大', '处于', '处在', '处理', '复兴', '复制', '复杂', '复辟', '夏商', '夏朝', '外交', '外交关系', '外交政策', '外国', '外来', '外贸', '多党合作', '多数', '多极化', '多种', '多边', '大一统', '大众', '大力', '大国', '大多数', '大大', '大夫', '大宗', '大幅', '大总统', '大意', '大批', '大权', '大臣', '大规模', '大跃进', '大量', '大门', '大陆', '大革命', '天下', '天地', '天子', '天朝', '天津', '天理', '太尉', '太平天国', '太平天国运动', '失业', '失去', '失误', '失败', '夺取', '奉行', '契约', '奖励', '奠定', '女性', '奴隶', '奴隶制', '如下', '如何', '如果', '如此', '妇女', '妥协', '始终', '委员会', '威胁', '嫡长子', '子孙', '子弟', '孔子', '孔孟', '存在', '孙中山', '孟子', '孟德斯鸠', '孤立', '学习', '学堂', '学术', '学校', '学派', '学生', '学者', '学说', '学问', '它们', '宇宙', '安全', '安徽', '宋代', '宋元', '宋明理学', '宋朝', '宋词', '完全', '完善', '完备', '完成', '完整', '宏观', '宗教', '宗教改革', '宗族', '宗旨', '宗法', '宗法制度', '官僚', '官僚政治', '官僚资本', '官制', '官吏', '官员', '官府', '官方', '官职', '官营', '定律', '实业', '实事求是', '实力', '实施', '实权', '实现', '实行', '实质', '实践', '实际', '实际上', '实验', '审议', '客观', '宣传', '宣告', '宣布', '宣扬', '宣言', '宪政', '宪法', '宰相', '家庭', '家族', '容易', '密切', '察举', '对于', '对华', '对外', '对外开放', '对外贸易', '对峙', '对应', '对待', '对抗', '对此', '对比', '对立', '对象', '寻找', '寻求', '导致', '封国', '封地', '封建', '封建主义', '封建制度', '封建礼教', '封建社会', '封建统治', '尊重', '小农经济', '小说', '小问', '少数', '少数民族', '尚书', '尚书省', '尚未', '尤其', '就业', '就是', '尺度', '尼克松', '局势', '局限性', '局面', '层面', '居住', '展开', '展望', '属于', '山东', '崇尚', '崛起', '崩溃', '州长', '工业', '工业化', '工业品', '工业生产', '工业革命', '工人', '工人运动', '工人阶级', '工作', '工具', '工农', '工厂', '工商', '工商业', '工场', '工程', '工艺', '工资', '左倾', '左右', '巨大', '巩固', '差异', '差距', '已学', '已有', '已经', '巴黎', '巴黎公社', '市场', '市场经济', '市民', '布局', '布雷顿', '师夷长', '希望', '希腊', '帝制', '帝国', '帝国主义', '帝王', '带有', '带来', '帮助', '干中', '干涉', '干预', '平均', '平民', '平等', '平衡', '年代', '年份', '年底', '年月日', '年间', '并且', '并存', '并未', '并行', '并重', '并非', '幸福', '幻灭', '广东', '广大', '广州', '广泛', '应为', '应对', '应当', '应是', '应用', '应该', '应选', '废止', '废除', '康德', '康有为', '延续', '建交', '建国', '建国初期', '建成', '建立', '建筑', '建议', '建设', '开创', '开发', '开启', '开始', '开展', '开支', '开放', '开放性', '开端', '开辟', '弊端', '引发', '引导', '引起', '引进', '弘扬', '张謇', '弹劾', '强化', '强国', '强大', '强烈', '强调', '归纳', '当今世界', '当代', '当时', '当然', '当选', '形势', '形式', '形态', '形成', '形象', '影响', '影响力', '彻底', '彼此', '往往', '征收', '很多', '很大', '很快', '得以', '得出', '得到', '得益于', '得知', '御史', '御史台', '御史大夫', '微观世界', '德国', '德意志', '心理', '必然', '必要', '必须', '快速', '态度', '怎样', '思想', '思想家', '思想解放', '思潮', '思维', '思考', '性质', '总体', '总值', '总是', '总理', '总结', '总统', '总额', '恢复', '恩格斯', '恶化', '情况', '情感', '想象', '意义', '意味着', '意图', '意在', '意大利', '意志', '意思', '意见', '意识', '意识形态', '感受', '感应', '感觉', '愿望', '戈尔巴乔夫', '戊戌变法', '成为', '成分', '成功', '成员', '成员国', '成就', '成文法', '成果', '成熟', '成立', '我们', '我国', '或者', '战争', '战后', '战国', '战国时期', '战役', '战时', '战略', '战胜', '战败', '所以', '所学', '所有', '所有制', '所有权', '所示', '所说', '所谓', '所述', '手中', '手工', '手工业', '手段', '才能', '打击', '打开', '打破', '执政', '执行', '扩大', '扩展', '扩张', '批准', '批判', '找到', '承认', '技以', '技术', '把握', '抑制', '抓住', '投资', '抗战', '抗战时期', '抗日', '抗日战争', '抗日民族统一战线', '抗议书', '报刊', '报告', '报纸', '报道', '抨击', '抵制', '抵抗', '担任', '拒绝', '拓展', '招商局', '拥有', '拿破仑', '持续', '指出', '指定', '指导', '指导思想', '按照', '挑战', '振兴', '据此', '据统计', '掀起', '掌握', '掌管', '排斥', '排除', '掠夺', '探究', '探索', '探讨', '接受', '控制', '推动', '推崇', '推广', '推恩', '推断', '推翻', '推行', '推进', '措施', '描写', '描绘', '描述', '提供', '提倡', '提出', '提到', '提升', '提及', '提取', '提高', '揭示', '揭露', '援助', '摆脱', '摘编', '操纵', '支持', '支配', '收入', '收藏', '收购', '改为', '改变', '改善', '改良', '改造', '改革', '改革开放', '放宽', '放弃', '放松', '政令', '政体', '政党', '政务', '政局', '政府', '政权', '政治', '政治体制', '政治协商', '政治经济', '政策', '故事', '故选', '故项', '效应', '敌人', '敌视', '救亡图存', '救国', '救济', '教会', '教化', '教材', '教育', '教训', '数据', '数量', '数额', '整个', '整体', '整顿', '文件', '文化', '文化交流', '文化大革命', '文字', '文学', '文学艺术', '文官', '文明', '文章', '文艺', '文艺复兴', '文革', '斗争', '斯大林', '新兴', '新古典主义', '新型', '新大陆', '新式', '新政', '新文化运动', '新民主主义', '新民主主义革命', '新篇', '方向', '方式', '方法', '方针', '方面', '无为', '无为而治', '无产阶级', '无从', '无关', '无权', '无法', '无论', '无论是', '日内瓦', '日军', '日本', '日益', '日趋', '旨在', '早期', '时代', '时候', '时期', '时空', '时空观', '时说', '时间', '昆曲', '明代', '明太祖', '明显', '明朝', '明清', '明清小说', '明确', '春天', '春秋', '春秋战国', '春秋时期', '是从', '是否', '是因为', '是非', '显然', '显示', '显著', '晋商', '晚清', '普朗克', '普罗泰', '普通', '普遍', '普鲁士', '智者', '暂时', '暴力', '曲折', '更为', '更加', '曾经', '最为', '最初', '最后', '最大', '最早', '最有', '最终', '最能', '最高', '最高法院', '有些', '有人', '有关', '有利', '有利于', '有力', '有助于', '有所', '有效', '有时', '有权', '有着', '有限', '朋友', '服从', '服务', '朝代', '朝廷', '期间', '未来', '末年', '末期', '本国', '本草纲目', '本质', '本质属性', '本身', '本问', '本题', '朱元璋', '朱熹', '机会', '机关', '机制', '机器', '机构', '机遇', '杂病论', '权利', '权力', '权威', '李贽', '李鸿章', '材料', '杜鲁门', '束缚', '条件', '条例', '条约', '来源', '来看', '来自', '来说', '极大', '构建', '构成', '林则徐', '枢密院', '某一', '某些', '查看', '标准', '标志', '核心', '根据', '根据地', '根本', '根本原因', '根深蒂固', '根源', '格局', '格拉', '格物致知', '框架', '梁启超', '棉布', '棉纱', '棉纺织业', '棉花', '森林', '概况', '概念', '概括', '模式', '次数', '欧共体', '欧洲', '欧洲联盟', '欧盟', '欧美', '正在', '正常', '正常化', '正式', '正是', '正确', '正统', '正统思想', '此后', '此时', '此题', '步入', '武力', '武器', '武汉', '武装', '殊死搏斗', '殖民', '殖民主义', '殖民地', '每个', '每年', '比例', '比较', '比较简单', '比重', '毛泽东', '毛泽东思想', '民主', '民主主义', '民主党派', '民主制', '民主化', '民主思想', '民主革命', '民众', '民国', '民族', '民族主义', '民族区域', '民生', '民生主义', '民用工业', '民营', '民贵君轻', '民间', '水平', '水运', '永远', '求同存异', '汉代', '汉初', '汉字', '汉朝', '汉武帝', '江南', '汽车', '沙皇', '没有', '沦为', '治国', '治理', '沿海', '法令', '法兰西', '法典', '法则', '法制', '法国', '法定', '法家', '法币', '法律', '法德', '法案', '法治', '注意', '注重', '洋人', '洋务', '洋务派', '洋务运动', '洋布', '洋纱', '洋货', '洛克', '活动', '活跃', '流动', '流派', '流行', '流通', '浓厚', '浪漫主义', '浪潮', '海上', '海关', '海军', '海外', '海峡两岸', '海禁', '消失', '消灭', '消费', '消长', '消除', '涉及', '涌入', '深入', '深入人心', '深刻', '深化', '深受', '深远', '混乱', '清代', '清政府', '清朝', '清末', '清王朝', '湖南', '源于', '满足', '演变', '演进', '漫画', '潮流', '澳门', '激化', '激发', '激烈', '激进', '灭亡', '灭人', '灾难', '然后', '爆发', '爱因斯坦', '爱国', '爱国主义', '片面', '牛顿', '物体', '物理学', '物种', '物质', '牵制', '特别', '特征', '特权', '特殊', '特点', '特色', '牺牲', '状况', '状态', '独尊', '独立', '独立宣言', '独立战争', '独立自主', '玉米', '王位', '王国', '王夫之', '王室', '王朝', '王权', '王阳明', '环境', '现代', '现代主义', '现代化', '现在', '现实', '现实主义', '现象', '理学', '理念', '理性', '理想', '理由', '理解', '理解能力', '理论', '瓜分', '瓦解', '甚至', '生产', '生产关系', '生产力', '生产方式', '生产资料', '生命', '生存', '生活', '生物', '用于', '用来', '田亩', '由于', '由此', '由此可知', '由此可见', '由题', '甲午', '甲午战争', '电影', '电气', '男子', '画家', '画派', '界限', '留学', '疆域', '登上', '白银', '百姓', '百官', '百家争鸣', '百花齐放', '的确', '的话', '皇位', '皇帝', '皇权', '监察', '监察官', '监督', '监管', '盛行', '目前', '目标', '目的', '盲目', '直到', '直接', '相互', '相似', '相信', '相关', '相反', '相同', '相对', '相对论', '相当', '相权', '相比', '相符', '相结合', '相继', '看出', '看到', '看法', '真实', '真正', '真理', '眼看', '矛盾', '知识', '知识分子', '知识点', '知道', '短暂', '石油', '研究', '破产', '破坏', '确定', '确立', '示例', '示意图', '礼乐', '礼仪', '社会', '社会主义', '社会制度', '社会秩序', '祖国统一', '神学', '神权', '禁止', '福利', '福建', '私人', '私有制', '科举', '科举制', '科举制度', '科举考试', '科学', '科学家', '科学技术', '科学研究', '科技', '秘籍', '秦代', '秦国', '秦始皇', '秦朝', '秦汉', '秩序', '积极', '积极性', '积极意义', '称为', '移民', '程序', '程度', '程朱', '税收', '稳定', '空前', '空想', '空间', '突出', '突破', '立场', '立法', '立法权', '竞争', '章程', '符合', '第一', '第一个', '第一次', '第一次世界大战', '第一部', '第一颗', '第三', '第三世界', '第三产业', '第三次', '第二', '第二次', '第二次世界大战', '等于', '等级', '等级制度', '答案', '策略', '签署', '签订', '简单', '简答题', '管理', '管辖', '类似', '粮食', '精神', '系统', '紧密', '紧张', '紧扣', '繁荣', '纠正', '纠错', '红军', '约束', '约法', '纲常', '纲领', '纷纷', '纸币', '纺织', '纺织业', '组合', '组成', '组成部分', '组织', '终于', '经世致用', '经典', '经典力学', '经历', '经济', '经济体制', '经济侵略', '经济危机', '经济基础', '经济学', '经济特区', '经营', '经过', '经验', '结合', '结束', '结构', '结果', '结论', '绘画', '给予', '绝对', '统一', '统一战线', '统治', '统治者', '统治阶级', '统而', '统计', '统计表', '继承', '继续', '维护', '维持', '维新', '维新派', '维系', '综上', '综上所述', '综合', '缓和', '缓慢', '缓解', '缩小', '缺乏', '缺陷', '网络', '罗斯福', '罗马', '罗马法', '罢黜百家', '美元', '美国', '美国政府', '美德', '美术', '美洲', '美苏', '美英', '群众', '老子', '考察', '考查', '考虑', '考试', '而且', '而后', '而已', '而是', '而言', '耕作', '职务', '职权', '职能', '职责', '联产承包', '联合', '联合国', '联盟', '联系', '联邦', '联邦制', '联邦德国', '联邦政府', '股票', '肯定', '背景', '背离', '胜利', '能力', '能够', '脱离', '腐朽', '腐败', '膨胀', '自主', '自主权', '自己', '自强', '自治', '自然', '自然界', '自然科学', '自然经济', '自由', '自由主义', '自由放任', '自由落体', '自由贸易', '自给自足', '自行', '自身', '至上', '至高无上', '致力于', '舞台', '航天技术', '航海', '航空', '航行', '航路', '船队', '良知', '艰难', '色彩', '艺术', '节度使', '苏俄', '苏格拉底', '苏维埃', '苏联', '英国', '英国人', '英国议会', '英法', '英王', '英美', '范围', '范畴', '茶叶', '荀子', '荷兰', '获取', '获取信息', '获得', '萌发', '萌芽', '萎缩', '萧条', '落后', '著作', '著名', '葡萄牙', '董仲舒', '蒋介石', '蒸汽', '蒸汽机', '虚假', '虽然', '融合', '血缘', '血缘关系', '行业', '行为', '行使', '行动', '行政', '行政效率', '行政权', '行省', '表明', '表格', '表现', '表示', '表达', '表述', '衰落', '衰败', '袁世凯', '被迫', '西周', '西周时期', '西学', '西方', '西欧', '西欧国家', '西汉', '西洋', '西班牙', '要求', '见证', '观察', '观念', '观点', '规则', '规定', '规律', '规模', '规范', '视为', '觉醒', '角度', '解体', '解决', '解决问题', '解放', '解放战争', '解散', '解析', '解答', '解读', '解释', '解题', '言论', '计划', '计划经济', '计算机', '认为', '认可', '认同', '认知', '认识', '讨论', '议会', '议员', '议政', '议案', '记忆', '记载', '讲话', '许多', '论证', '论语', '论述', '论题', '设厂', '设立', '设置', '设计', '设问', '访华', '证明', '评价', '评论', '识记', '诏令', '试图', '试题', '诗人', '诗歌', '诗经', '诞生', '语言', '说明', '说法', '诸侯', '诸侯国', '诸侯王', '诸多', '调动', '调整', '调用', '调节', '谈判', '谋求', '象征', '负责', '贡献', '财产', '财富', '财政', '财政收入', '责任', '责任制', '货币', '货物', '贫困', '购买', '贯彻', '贵族', '贵族政治', '贵贱', '贸易', '资产阶级', '资政', '资料', '资本', '资本主义', '资本家', '资源', '资金', '赋予', '赋税', '赔款', '赢得', '赫鲁晓夫', '走上', '走出', '走向', '起到', '起来', '起源', '超越', '超过', '越来越', '趋于', '趋势', '趋向', '距离', '路线', '身份', '转为', '转变', '转向', '转型', '转折', '转移', '转运', '轮船', '轻工业', '载人', '较为', '较大', '输入', '辛丑', '辛亥革命', '边疆', '达到', '达尔文', '达成', '迁移', '迅速', '过于', '过去', '过渡', '过程', '迈入', '运动', '运用', '运行', '近代', '近代化', '近代史', '还是', '还有', '这一', '这个', '这些', '这位', '这句', '这是', '这样', '这次', '这段话', '这种', '这部', '这里', '进一步', '进入', '进出口', '进化', '进化论', '进口', '进攻', '进步', '进步性', '进程', '进行', '违背', '迫使', '迷信', '追求', '退出', '适合', '适应', '适用', '适者生存', '选举', '选出', '选区', '选官', '选拔', '选择', '选择项', '选择题', '选是', '选民', '选项', '选题', '逐步', '逐渐', '途径', '通判', '通商', '通商口岸', '通货膨胀', '通过', '速度', '造成', '逻辑', '遏制', '道家', '道德', '道路', '遭到', '遭受', '遭遇', '避免', '邓小平', '那么', '那些', '那样', '邦交', '邦联', '郑和', '郡县', '郡县制', '郡守', '部分', '部门', '都城', '采取', '采用', '重大', '重工业', '重庆谈判', '重建', '重心', '重新', '重点', '重要', '重要性', '重要文献', '重视', '量子', '量子论', '金砖', '金融', '针对', '钱穆', '铁路', '银行', '销售', '错误', '镇压', '长官', '长期', '长江', '门下', '门下省', '门第', '闭关锁国', '问世', '问题', '阅读', '阐述', '阐释', '防止', '阵营', '阶层', '阶段', '阶级', '阶级斗争', '阶级矛盾', '阻碍', '陈独秀', '降低', '限制', '除了', '隋唐', '随着', '障碍', '难以', '难度', '雅典', '集中', '集体', '集体化', '集团', '集团化', '集权', '雇佣', '雏形', '需求', '需要', '霸主', '霸权', '霸权主义', '青年', '非常', '非洲', '面临', '面对', '面积', '革命', '革命派', '革命道路', '革新', '韩愈', '韩非子', '顶峰', '项与题', '项中', '项是', '项符合', '项项', '顺序', '顺应', '顾炎武', '颁布', '领事裁判权', '领土', '领域', '领导', '领导人', '领袖', '频繁', '题型', '题干', '题意', '风格', '风潮', '食品', '首先', '首次', '首相', '首要', '香港', '马克思', '马克思主义', '马关条约', '马歇尔', '驱逐', '高于', '高度', '高度集中', '魏晋', '鸦片', '鸦片战争', '黄宗羲', '黄海', '黄金', '黑暗', '鼓励']\n"
     ]
    }
   ],
   "source": [
    "print(vectorizer.get_feature_names())"
   ]
  },
  {
   "cell_type": "code",
   "execution_count": 73,
   "metadata": {},
   "outputs": [
    {
     "name": "stdout",
     "output_type": "stream",
     "text": [
      "(4970, 2500)\n"
     ]
    }
   ],
   "source": [
    "print(X.shape)"
   ]
  },
  {
   "cell_type": "code",
   "execution_count": 74,
   "metadata": {},
   "outputs": [
    {
     "data": {
      "text/plain": [
       "<4970x2500 sparse matrix of type '<class 'numpy.float64'>'\n",
       "\twith 342097 stored elements in Compressed Sparse Row format>"
      ]
     },
     "execution_count": 74,
     "metadata": {},
     "output_type": "execute_result"
    }
   ],
   "source": [
    "X"
   ]
  },
  {
   "cell_type": "code",
   "execution_count": 75,
   "metadata": {},
   "outputs": [
    {
     "data": {
      "text/plain": [
       "array([[0.        , 0.        , 0.        , ..., 0.        , 0.        ,\n",
       "        0.        ],\n",
       "       [0.        , 0.        , 0.        , ..., 0.        , 0.        ,\n",
       "        0.        ],\n",
       "       [0.        , 0.        , 0.        , ..., 0.        , 0.        ,\n",
       "        0.        ],\n",
       "       ...,\n",
       "       [0.10243077, 0.        , 0.        , ..., 0.        , 0.        ,\n",
       "        0.        ],\n",
       "       [0.08696422, 0.        , 0.        , ..., 0.        , 0.        ,\n",
       "        0.        ],\n",
       "       [0.        , 0.        , 0.        , ..., 0.        , 0.        ,\n",
       "        0.        ]])"
      ]
     },
     "execution_count": 75,
     "metadata": {},
     "output_type": "execute_result"
    }
   ],
   "source": [
    "X.toarray()"
   ]
  },
  {
   "cell_type": "markdown",
   "metadata": {},
   "source": [
    "# Bayes"
   ]
  },
  {
   "cell_type": "markdown",
   "metadata": {},
   "source": [
    "朴素贝叶斯方法是基于贝叶斯定理的一组有监督学习算法，即“简单”地假设每对特征之间相互独立。 给定一个类别 ![y](img/0775c03fc710a24df297dedcec515aaf.jpg) 和一个从 ![x_1](img/f15b9946d9078749f894a78579dc6778.jpg) 到 ![x_n](img/14f6506599a88a5297ea712fa70eece4.jpg) 的相关的特征向量， 贝叶斯定理阐述了以下关系:\n",
    "\n",
    "\n",
    "![P(y \\mid x_1, \\dots, x_n) = \\frac{P(y) P(x_1, \\dots x_n \\mid y)}{P(x_1, \\dots, x_n)}](img/32f500a4e2eba65727c1e003699dff90.jpg)\n",
    "\n",
    "\n",
    "使用简单(naive)的假设-每对特征之间都相互独立:\n",
    "\n",
    "![P(x_i | y, x_1, \\dots, x_{i-1}, x_{i+1}, \\dots, x_n) = P(x_i | y) ,](img/9fd83615429a9be9e5698d35bec8642a.jpg)\n",
    "\n",
    "对于所有的 :*i* 都成立，这个关系式可以简化为\n",
    "\n",
    "\n",
    "![P(y \\mid x_1, \\dots, x_n) = \\frac{P(y) \\prod_{i=1}^{n} P(x_i \\mid y)}{P(x_1, \\dots, x_n)}](img/1c12ea7ea179efd16ce513645034d41a.jpg)\n",
    "\n",
    "\n",
    "由于在给定的输入中 ![P(x_1, \\dots, x_n)](img/03dc262433e357325639af531c5bf70e.jpg) 是一个常量，我们使用下面的分类规则:\n",
    "\n",
    "\n",
    "![P(y \\mid x_1, \\dots, x_n) \\propto P(y) \\prod_{i=1}^{n} P(x_i \\mid y)\\Downarrow\\hat{y} = \\arg\\max_y P(y) \\prod_{i=1}^{n} P(x_i \\mid y),](img/983133e80141fbf289a10f379c11b34f.jpg)\n",
    "\n",
    "\n",
    "我们可以使用最大后验概率(Maximum A Posteriori, MAP) 来估计 ![P(y)](img/d41288778c3d66bcae947c3078469126.jpg) 和 ![P(x_i \\mid y)](img/db23fadfab6b660dbfa2934c4536beb1.jpg) ; 前者是训练集中类别 ![y](img/0775c03fc710a24df297dedcec515aaf.jpg) 的相对频率。\n",
    "\n",
    "各种各样的的朴素贝叶斯分类器的差异大部分来自于处理 ![P(x_i \\mid y)](img/db23fadfab6b660dbfa2934c4536beb1.jpg) 分布时的所做的假设不同。\n",
    "\n",
    "尽管其假设过于简单，在很多实际情况下，朴素贝叶斯工作得很好，特别是文档分类和垃圾邮件过滤。这些工作都要求 一个小的训练集来估计必需参数。(至于为什么朴素贝叶斯表现得好的理论原因和它适用于哪些类型的数据，请参见下面的参考。)\n",
    "\n",
    "相比于其他更复杂的方法，朴素贝叶斯学习器和分类器非常快。 分类条件分布的解耦意味着可以独立单独地把每个特征视为一维分布来估计。这样反过来有助于缓解维度灾难带来的问题。\n",
    "\n",
    "另一方面，尽管朴素贝叶斯被认为是一种相当不错的分类器，但却不是好的估计器(estimator)，所以不能太过于重视从 `predict_proba` 输出的概率。\n",
    "\n",
    "> **参考资料**:\n",
    ">*   H. Zhang (2004). [The optimality of Naive Bayes.](http://www.cs.unb.ca/~hzhang/publications/FLAIRS04ZhangH.pdf) Proc. FLAIRS.\n"
   ]
  },
  {
   "cell_type": "code",
   "execution_count": 76,
   "metadata": {},
   "outputs": [],
   "source": [
    "from sklearn.model_selection import train_test_split"
   ]
  },
  {
   "cell_type": "code",
   "execution_count": 77,
   "metadata": {},
   "outputs": [],
   "source": [
    "X_train, X_test, y_train, y_test=train_test_split(X.toarray(),dataset_df['label'],test_size=0.2,random_state=42)"
   ]
  },
  {
   "cell_type": "code",
   "execution_count": 81,
   "metadata": {},
   "outputs": [
    {
     "data": {
      "text/plain": [
       "(3976, 2500)"
      ]
     },
     "execution_count": 81,
     "metadata": {},
     "output_type": "execute_result"
    }
   ],
   "source": [
    "X_train.shape"
   ]
  },
  {
   "cell_type": "code",
   "execution_count": 82,
   "metadata": {},
   "outputs": [],
   "source": [
    "from sklearn.naive_bayes import GaussianNB,MultinomialNB,ComplementNB,BernoulliNB"
   ]
  },
  {
   "cell_type": "markdown",
   "metadata": {},
   "source": [
    "## 1. GaussianNB"
   ]
  },
  {
   "cell_type": "markdown",
   "metadata": {},
   "source": [
    "高斯朴素贝叶斯\n",
    "\n",
    "[`GaussianNB`](https://scikit-learn.org/stable/modules/generated/sklearn.naive_bayes.GaussianNB.html#sklearn.naive_bayes.GaussianNB \"sklearn.naive_bayes.GaussianNB\") 实现了运用于分类的高斯朴素贝叶斯算法。特征的可能性(即概率)假设为高斯分布:\n",
    "\n",
    "![P(x_i \\mid y) &= \\frac{1}{\\sqrt{2\\pi\\sigma^2_y}} \\exp\\left(-\\frac{(x_i - \\mu_y)^2}{2\\sigma^2_y}\\right)](img/92c470d884176abfcc29a5218ccf0aef.jpg)\n",
    "\n",
    "参数 ![\\sigma_y](img/abd232bd41a9d1b51021b788e2a82dd9.jpg) 和 ![\\mu_y](img/1d57cc4e24d28b8283f98bda247d84e7.jpg) 使用最大似然法估计。\n",
    "\n",
    "```py\n",
    ">>> from sklearn import datasets\n",
    ">>> iris = datasets.load_iris()\n",
    ">>> from sklearn.naive_bayes import GaussianNB\n",
    ">>> gnb = GaussianNB()\n",
    ">>> y_pred = gnb.fit(iris.data, iris.target).predict(iris.data)\n",
    ">>> print(\"Number of mislabeled points out of a total %d points : %d\"\n",
    "...       % (iris.data.shape[0],(iris.target != y_pred).sum()))\n",
    "Number of mislabeled points out of a total 150 points : 6\n",
    "\n",
    "```"
   ]
  },
  {
   "cell_type": "code",
   "execution_count": 83,
   "metadata": {},
   "outputs": [
    {
     "name": "stdout",
     "output_type": "stream",
     "text": [
      "Wall time: 386 ms\n"
     ]
    }
   ],
   "source": [
    "%%time\n",
    "# 构建模型\n",
    "gnb = GaussianNB()\n",
    "# 训练\n",
    "gnb=gnb.fit(X_train, y_train)\n",
    "# 预测\n",
    "gnb_y_pred=gnb.predict(X_test)"
   ]
  },
  {
   "cell_type": "markdown",
   "metadata": {},
   "source": [
    "## 2. MultinomialNB"
   ]
  },
  {
   "cell_type": "markdown",
   "metadata": {},
   "source": [
    "多项分布朴素贝叶斯\n",
    "\n",
    "[`MultinomialNB`](https://scikit-learn.org/stable/modules/generated/sklearn.naive_bayes.MultinomialNB.html#sklearn.naive_bayes.MultinomialNB \"sklearn.naive_bayes.MultinomialNB\") 实现了服从多项分布数据的朴素贝叶斯算法，也是用于文本分类(这个领域中数据往往以词向量表示，尽管在实践中 tf-idf 向量在预测时表现良好)的两大经典朴素贝叶斯算法之一。 分布参数由每类 ![y](img/0775c03fc710a24df297dedcec515aaf.jpg) 的 ![\\theta_y = (\\theta_{y1},\\ldots,\\theta_{yn})](img/a25ab5d7faac5be22a6d242286376161.jpg) 向量决定， 式中 ![n](img/c87d9110f3d32ffa5fa08671e4af11fb.jpg) 是特征的数量(对于文本分类，是词汇量的大小) ![\\theta_{yi}](img/860af894555b3d5f52e893bab6cafc11.jpg) 是样本中属于类 ![y](img/0775c03fc710a24df297dedcec515aaf.jpg) 中特征 ![i](img/43e13b580daefe5ba754b790dfbd216c.jpg) 概率 ![P(x_i \\mid y)](img/db23fadfab6b660dbfa2934c4536beb1.jpg)。\n",
    "\n",
    "参数 ![\\theta_y](img/bbdbd3f496f907578ff01cc798adde74.jpg) 使用平滑过的最大似然估计法来估计，即相对频率计数:\n",
    "\n",
    "![\\hat{\\theta}_{yi} = \\frac{ N_{yi} + \\alpha}{N_y + \\alpha n}](img/cb5a89fd247e8cbbea21b00a12d188e6.jpg)\n",
    "\n",
    "式中![N_{yi} = \\sum_{x \\in T} x_i](img/bayes01.png)是 训练集T中特征i在类![y](img/0775c03fc710a24df297dedcec515aaf.jpg)中出现的次数，![N_{y} = \\sum_{i=1}^{|T|} N_{yi}](img/bayes02.png) 是类 ![y](img/0775c03fc710a24df297dedcec515aaf.jpg) 中出现所有特征的计数总和。\n",
    "\n",
    "先验平滑因子 ![\\alpha \\ge 0](img/43fc75930300610d8cb41a8d15899c15.jpg) 为在学习样本中没有出现的特征而设计，以防在将来的计算中出现0概率输出。 把 ![\\alpha = 1](img/3e0dffeddefe6ba1e809bd9b6276c771.jpg) 被称为拉普拉斯平滑(Lapalce smoothing)，而 ![\\alpha &lt; 1](img/8fe0d726b364f224c93e31cd3248a1f6.jpg) 被称为Lidstone平滑方法(Lidstone smoothing)。\n"
   ]
  },
  {
   "cell_type": "code",
   "execution_count": 367,
   "metadata": {},
   "outputs": [
    {
     "data": {
      "text/plain": [
       "(3976, 2500)"
      ]
     },
     "execution_count": 367,
     "metadata": {},
     "output_type": "execute_result"
    }
   ],
   "source": [
    "X_train.shape"
   ]
  },
  {
   "cell_type": "code",
   "execution_count": 84,
   "metadata": {},
   "outputs": [
    {
     "name": "stdout",
     "output_type": "stream",
     "text": [
      "Wall time: 64.4 ms\n"
     ]
    }
   ],
   "source": [
    "%%time\n",
    "# 构建模型\n",
    "clf = MultinomialNB()\n",
    "# 训练\n",
    "clf=clf.fit(X_train, y_train)\n",
    "# 预测\n",
    "clf_y_pred=clf.predict(X_test)"
   ]
  },
  {
   "cell_type": "markdown",
   "metadata": {},
   "source": [
    "## 3. ComplementNB"
   ]
  },
  {
   "cell_type": "markdown",
   "metadata": {},
   "source": [
    "补充朴素贝叶斯\n",
    "\n",
    "[`ComplementNB`](https://scikit-learn.org/stable/modules/generated/sklearn.naive_bayes.ComplementNB.html#sklearn.naive_bayes.ComplementNB)实现了补充朴素贝叶斯(CNB)算法。CNB是标准多项式朴素贝叶斯(MNB)算法的一种改进，特别适用于不平衡数据集。具体来说，CNB使用来自每个类的补数的统计数据来计算模型的权重。CNB的发明者的研究表明，CNB的参数估计比MNB的参数估计更稳定。此外，CNB在文本分类任务上通常比MNB表现得更好(通常有相当大的优势)。计算权重的步骤如下:\n",
    "\n",
    "![\\begin{align}\\begin{aligned}\\hat{\\theta}_{ci} = \\frac{\\alpha_i + \\sum_{j:y_j \\neq c} d_{ij}}{\\alpha + \\sum_{j:y_j \\neq c} \\sum_{k} d_{kj}}\\\\w_{ci} = \\log \\hat{\\theta}_{ci}\\\\w_{ci} = \\frac{w_{ci}}{\\sum_{j} |w_{cj}|}\\end{aligned}\\end{align}](img/bayse03.png)\n",
    "\n",
    "其中对不在类c中的所有记录j求和，d<sub>ij</sub>可以是文档ｊ中词语i的计数或tf-idf值，α<sub>i</sub>是就像MNB中一样的平滑超参数，同时![\\alpha = \\sum_{i} \\alpha_i](img/bayse04.png)。第二个归一化解决了长记录主导MNB参数估计的问题。分类规则为:\n",
    "\n",
    "![\\hat{c} = \\arg\\min_c \\sum_{i} t_i w_{ci}](img/bayse05.png)\n",
    "\n",
    "即将记录分配给补充匹配度最低的类。\n",
    "                 "
   ]
  },
  {
   "cell_type": "code",
   "execution_count": 86,
   "metadata": {},
   "outputs": [
    {
     "name": "stdout",
     "output_type": "stream",
     "text": [
      "Wall time: 50.8 ms\n"
     ]
    }
   ],
   "source": [
    "%%time\n",
    "# 构建模型\n",
    "cnb = ComplementNB()\n",
    "# 训练\n",
    "cnb=cnb.fit(X_train, y_train)\n",
    "# 预测\n",
    "cnb_y_pred=cnb.predict(X_test)"
   ]
  },
  {
   "cell_type": "markdown",
   "metadata": {},
   "source": [
    "## 4. BernoulliNB"
   ]
  },
  {
   "cell_type": "code",
   "execution_count": 87,
   "metadata": {},
   "outputs": [
    {
     "name": "stdout",
     "output_type": "stream",
     "text": [
      "Wall time: 172 ms\n"
     ]
    }
   ],
   "source": [
    "%%time\n",
    "# 构建模型\n",
    "bnb = BernoulliNB()\n",
    "# 训练\n",
    "bnb=bnb.fit(X_train, y_train)\n",
    "# 预测\n",
    "bnb_y_pred=bnb.predict(X_test)"
   ]
  },
  {
   "cell_type": "markdown",
   "metadata": {},
   "source": [
    "伯努利朴素贝叶斯\n",
    "\n",
    "[`BernoulliNB`](https://scikit-learn.org/stable/modules/generated/sklearn.naive_bayes.BernoulliNB.html#sklearn.naive_bayes.BernoulliNB \"sklearn.naive_bayes.BernoulliNB\") 实现了用于多重伯努利分布数据的朴素贝叶斯训练和分类算法，即有多个特征，但每个特征 都假设是一个二元 (Bernoulli, boolean) 变量。 因此，这类算法要求样本以二元值特征向量表示；如果样本含有其他类型的数据， 一个 `BernoulliNB` 实例会将其二值化(取决于 `binarize` 参数)。\n",
    "\n",
    "伯努利朴素贝叶斯的决策规则基于:\n",
    "\n",
    "![P(x_i \\mid y) = P(i \\mid y) x_i + (1 - P(i \\mid y)) (1 - x_i)](img/375fd0c32c15c4547b00ae36c0ec0a6a.jpg)\n",
    "\n",
    "与多项分布朴素贝叶斯的规则不同 伯努利朴素贝叶斯明确地惩罚类 ![y](img/0775c03fc710a24df297dedcec515aaf.jpg) 中没有出现作为预测因子的特征 ![i](img/43e13b580daefe5ba754b790dfbd216c.jpg) ，而多项分布分布朴素贝叶斯只是简单地忽略没出现的特征。\n",
    "\n",
    "在文本分类的例子中，统计词语是否出现的向量(word occurrence vectors)(而非统计词语出现次数的向量(word count vectors))可以用于训练和使用这个分类器。 `BernoulliNB` 可能在一些数据集上表现得更好，特别是那些更短的文档。 如果时间允许，建议对两个模型都进行评估。\n",
    "\n",
    "> **参考资料**:\n",
    ">*   C.D. Manning, P. Raghavan and H. Schütze (2008). Introduction to Information Retrieval. Cambridge University Press, pp. 234-265.\n",
    ">*   A. McCallum and K. Nigam (1998). [A comparison of event models for Naive Bayes text classification.](http://citeseerx.ist.psu.edu/viewdoc/summary?doi=10.1.1.46.1529) Proc. AAAI/ICML-98 Workshop on Learning for Text Categorization, pp. 41-48.\n",
    ">*   V. Metsis, I. Androutsopoulos and G. Paliouras (2006). [Spam filtering with Naive Bayes – Which Naive Bayes?](http://citeseerx.ist.psu.edu/viewdoc/summary?doi=10.1.1.61.5542) 3rd Conf. on Email and Anti-Spam (CEAS)."
   ]
  },
  {
   "cell_type": "markdown",
   "metadata": {},
   "source": [
    "# 5. Out-of-core naive Bayes model fitting\n",
    "\n",
    "基于外存的朴素贝叶斯模型拟合\n",
    "\n",
    "朴素贝叶斯模型可以解决整个训练集不能导入内存的大规模分类问题。 为了解决这个问题， [`MultinomialNB`](https://scikit-learn.org/stable/modules/generated/sklearn.naive_bayes.MultinomialNB.html#sklearn.naive_bayes.MultinomialNB \"sklearn.naive_bayes.MultinomialNB\"), [`BernoulliNB`](https://scikit-learn.org/stable/modules/generated/sklearn.naive_bayes.BernoulliNB.html#sklearn.naive_bayes.BernoulliNB \"sklearn.naive_bayes.BernoulliNB\"), 和 [`GaussianNB`](https://scikit-learn.org/stable/modules/generated/sklearn.naive_bayes.GaussianNB.html#sklearn.naive_bayes.GaussianNB \"sklearn.naive_bayes.GaussianNB\") 实现了 `partial_fit` 方法，可以动态的增加数据，使用方法与其他分类器的一样，使用示例见 [Out-of-core classification of text documents](https://scikit-learn.org/stable/auto_examples/applications/plot_out_of_core_classification.html#sphx-glr-auto-examples-applications-plot-out-of-core-classification-py) 。所有的朴素贝叶斯分类器都支持样本权重。\n",
    "\n",
    "与 `fit` 方法不同，首次调用 `partial_fit` 方法需要传递一个所有期望的类标签的列表。\n",
    "\n",
    "对于 scikit-learn 中可用方案的概览，另见 [out-of-core learning](66#71-使用外核学习实例进行拓展) 文档。\n",
    "\n",
    "> 注意：所有朴素贝叶斯模型调用 `partial_fit` 都会引入一些计算开销。推荐让数据块越大越好，其大小与 RAM 中可用内存大小相同。"
   ]
  },
  {
   "cell_type": "markdown",
   "metadata": {},
   "source": [
    "# 评估"
   ]
  },
  {
   "cell_type": "markdown",
   "metadata": {},
   "source": [
    "> **参考资料**:\n",
    ">*   [sklearn naive bayes](https://scikit-learn.org/dev/modules/naive_bayes.html)\n",
    ">*   [sklearn docs-zh](https://github.com/apachecn/sklearn-doc-zh)"
   ]
  },
  {
   "cell_type": "code",
   "execution_count": 88,
   "metadata": {},
   "outputs": [],
   "source": [
    "from sklearn.metrics import classification_report"
   ]
  },
  {
   "cell_type": "code",
   "execution_count": 89,
   "metadata": {},
   "outputs": [
    {
     "name": "stdout",
     "output_type": "stream",
     "text": [
      "GauusianNB classification_report: \n",
      "\n",
      "              precision    recall  f1-score   support\n",
      "\n",
      "           0       0.68      0.83      0.75       213\n",
      "           1       0.70      0.47      0.56       451\n",
      "           2       0.58      0.76      0.66       330\n",
      "\n",
      "   micro avg       0.64      0.64      0.64       994\n",
      "   macro avg       0.65      0.69      0.65       994\n",
      "weighted avg       0.66      0.64      0.63       994\n",
      "\n",
      "MultinomialNB classification_report: \n",
      "\n",
      "              precision    recall  f1-score   support\n",
      "\n",
      "           0       0.94      0.89      0.91       213\n",
      "           1       0.77      0.83      0.80       451\n",
      "           2       0.76      0.71      0.74       330\n",
      "\n",
      "   micro avg       0.80      0.80      0.80       994\n",
      "   macro avg       0.82      0.81      0.82       994\n",
      "weighted avg       0.80      0.80      0.80       994\n",
      "\n",
      "ComplementNB classification_report: \n",
      "\n",
      "              precision    recall  f1-score   support\n",
      "\n",
      "           0       0.85      0.92      0.89       213\n",
      "           1       0.80      0.76      0.78       451\n",
      "           2       0.74      0.75      0.74       330\n",
      "\n",
      "   micro avg       0.79      0.79      0.79       994\n",
      "   macro avg       0.80      0.81      0.80       994\n",
      "weighted avg       0.79      0.79      0.79       994\n",
      "\n",
      "BernoulliNB classification_report: \n",
      "\n",
      "              precision    recall  f1-score   support\n",
      "\n",
      "           0       0.96      0.86      0.91       213\n",
      "           1       0.79      0.80      0.79       451\n",
      "           2       0.73      0.76      0.75       330\n",
      "\n",
      "   micro avg       0.80      0.80      0.80       994\n",
      "   macro avg       0.83      0.81      0.82       994\n",
      "weighted avg       0.81      0.80      0.80       994\n",
      "\n"
     ]
    }
   ],
   "source": [
    "print('GauusianNB classification_report: \\n')\n",
    "print(classification_report(y_test, gnb_y_pred))\n",
    "print('MultinomialNB classification_report: \\n')\n",
    "print(classification_report(y_test, clf_y_pred))\n",
    "print('ComplementNB classification_report: \\n')\n",
    "print(classification_report(y_test, cnb_y_pred))\n",
    "print('BernoulliNB classification_report: \\n')\n",
    "print(classification_report(y_test, bnb_y_pred))"
   ]
  },
  {
   "cell_type": "code",
   "execution_count": 336,
   "metadata": {},
   "outputs": [
    {
     "name": "stdout",
     "output_type": "stream",
     "text": [
      "GauusianNB classification_report: \n",
      "\n",
      "              precision    recall  f1-score   support\n",
      "\n",
      "           0       0.63      0.96      0.76       213\n",
      "           1       0.85      0.45      0.59       451\n",
      "           2       0.64      0.84      0.73       330\n",
      "\n",
      "    accuracy                           0.69       994\n",
      "   macro avg       0.71      0.75      0.69       994\n",
      "weighted avg       0.73      0.69      0.67       994\n",
      "\n",
      "MultinomialNB classification_report: \n",
      "\n",
      "              precision    recall  f1-score   support\n",
      "\n",
      "           0       0.95      0.85      0.90       213\n",
      "           1       0.74      0.84      0.79       451\n",
      "           2       0.77      0.66      0.71       330\n",
      "\n",
      "    accuracy                           0.79       994\n",
      "   macro avg       0.82      0.79      0.80       994\n",
      "weighted avg       0.79      0.79      0.79       994\n",
      "\n",
      "ComplementNB classification_report: \n",
      "\n",
      "              precision    recall  f1-score   support\n",
      "\n",
      "           0       0.82      0.90      0.86       213\n",
      "           1       0.79      0.75      0.77       451\n",
      "           2       0.73      0.74      0.73       330\n",
      "\n",
      "    accuracy                           0.78       994\n",
      "   macro avg       0.78      0.79      0.79       994\n",
      "weighted avg       0.78      0.78      0.77       994\n",
      "\n",
      "BernoulliNB classification_report: \n",
      "\n",
      "              precision    recall  f1-score   support\n",
      "\n",
      "           0       0.98      0.85      0.91       213\n",
      "           1       0.74      0.82      0.78       451\n",
      "           2       0.74      0.70      0.72       330\n",
      "\n",
      "    accuracy                           0.79       994\n",
      "   macro avg       0.82      0.79      0.80       994\n",
      "weighted avg       0.79      0.79      0.79       994\n",
      "\n"
     ]
    }
   ],
   "source": [
    "print('GauusianNB classification_report: \\n')\n",
    "print(classification_report(y_test, gnb_y_pred))\n",
    "print('MultinomialNB classification_report: \\n')\n",
    "print(classification_report(y_test, clf_y_pred))\n",
    "print('ComplementNB classification_report: \\n')\n",
    "print(classification_report(y_test, cnb_y_pred))\n",
    "print('BernoulliNB classification_report: \\n')\n",
    "print(classification_report(y_test, bnb_y_pred))"
   ]
  }
 ],
 "metadata": {
  "kernelspec": {
   "display_name": "Python [conda env:anaconda3]",
   "language": "python",
   "name": "conda-env-anaconda3-py"
  },
  "language_info": {
   "codemirror_mode": {
    "name": "ipython",
    "version": 3
   },
   "file_extension": ".py",
   "mimetype": "text/x-python",
   "name": "python",
   "nbconvert_exporter": "python",
   "pygments_lexer": "ipython3",
   "version": "3.6.5"
  }
 },
 "nbformat": 4,
 "nbformat_minor": 2
}
